{
 "cells": [
  {
   "cell_type": "markdown",
   "id": "3810b85c-7da8-459d-9ef2-cfc59b583fb2",
   "metadata": {},
   "source": [
    "## Introduction to Pandas: Data Manipulation"
   ]
  },
  {
   "cell_type": "markdown",
   "id": "4cb5ef1d-4740-45d4-aa39-d700738b6430",
   "metadata": {},
   "source": [
    "> It is often said that 80% of data analysis is spent on the data cleaning and preparing data. To get a handle on the problem, this section will focus on a small, nut important aspect of data manipulation and cleaning with pandas."
   ]
  },
  {
   "cell_type": "markdown",
   "id": "e7a28234-dfcd-4f65-822f-f47ea929d296",
   "metadata": {},
   "source": [
    "### Data Structures in Pandas"
   ]
  },
  {
   "cell_type": "markdown",
   "id": "cf41d046-c6ee-4f57-8f49-69f9c2a70447",
   "metadata": {},
   "source": [
    "There are two different data structures are there in Pandas -\n",
    "* **Series -** It is an one-dimensional labeled array of holding data of any data type (e.g. integer, string, floating point number, Python objects etc.). The axis are collectively referred to as the index.\n",
    "* **Data Frame -** Is is a two-dimensional labeled data structure with columns of potentially different types. You can think of it as a SQL table or MS-Excel spreadsheets. "
   ]
  },
  {
   "cell_type": "markdown",
   "id": "64d0bb3f-5dc3-43b0-98dc-3392dd81fd40",
   "metadata": {},
   "source": [
    "### Series Data Structure"
   ]
  },
  {
   "cell_type": "markdown",
   "id": "5d37ff51-b57c-40ce-8314-f3c657e792d2",
   "metadata": {},
   "source": [
    "**pandas.core.series.Series(data, index, dtype, copy)**\n",
    "* **data -** Data for the Series from list or ndarray or dictionary or constants etc.\n",
    "* **index -** It is unique and hashable for easy identification\n",
    "* **dtype -** It is for data type\n",
    "* **copy -** It only affects Series on ndarray  data inputs"
   ]
  },
  {
   "cell_type": "code",
   "execution_count": 8,
   "id": "f8d6ba3d-b049-4f48-a733-b66f04aa3ed0",
   "metadata": {},
   "outputs": [],
   "source": [
    "# importing required modules\n",
    "import pandas as pd\n",
    "import numpy as np"
   ]
  },
  {
   "cell_type": "code",
   "execution_count": 9,
   "id": "fa598a5d-4053-416d-bee5-ae9f716e895c",
   "metadata": {},
   "outputs": [
    {
     "name": "stdout",
     "output_type": "stream",
     "text": [
      "Series([], dtype: float64) 0 <class 'pandas.core.series.Series'> 1554901938288\n"
     ]
    },
    {
     "name": "stderr",
     "output_type": "stream",
     "text": [
      "<ipython-input-9-812467d8dfd0>:2: DeprecationWarning: The default dtype for empty Series will be 'object' instead of 'float64' in a future version. Specify a dtype explicitly to silence this warning.\n",
      "  s = pd.Series()\n"
     ]
    }
   ],
   "source": [
    "# creating empty Series\n",
    "s = pd.Series()\n",
    "print (s, len(s), type(s), id(s))"
   ]
  },
  {
   "cell_type": "code",
   "execution_count": 10,
   "id": "9cfd1976-3ecf-4a6f-bc93-f756fff3b420",
   "metadata": {},
   "outputs": [
    {
     "name": "stdout",
     "output_type": "stream",
     "text": [
      "['Amit' 'Kamal' 'Binay' 'Tuhin'] <class 'numpy.ndarray'>\n",
      "0     Amit\n",
      "1    Kamal\n",
      "2    Binay\n",
      "3    Tuhin\n",
      "dtype: object\n",
      "<class 'pandas.core.series.Series'>\n"
     ]
    }
   ],
   "source": [
    "# creating Series from ndarray\n",
    "my_data = np.array(['Amit', 'Kamal', 'Binay', 'Tuhin'])\n",
    "print (my_data, type(my_data))\n",
    "s = pd.Series(data = my_data)\n",
    "print (s)\n",
    "print (type(s))"
   ]
  },
  {
   "cell_type": "code",
   "execution_count": 11,
   "id": "127e6173-f870-40f1-bff7-0d0cfbf4019b",
   "metadata": {},
   "outputs": [
    {
     "name": "stdout",
     "output_type": "stream",
     "text": [
      "[100 200 300 400 500]\n",
      "0    100\n",
      "1    200\n",
      "2    300\n",
      "3    400\n",
      "4    500\n",
      "dtype: int32\n",
      "[999 888 300 400 500]\n",
      "0    999\n",
      "1    888\n",
      "2    300\n",
      "3    400\n",
      "4    500\n",
      "dtype: int32\n"
     ]
    }
   ],
   "source": [
    "arr1 = np.array([100, 200, 300, 400, 500])\n",
    "print(arr1)\n",
    "s = pd.Series(data = arr1, copy = False)\n",
    "print (s)\n",
    "s[0] = 999\n",
    "arr1[1] = 888\n",
    "print (arr1)\n",
    "print (s)"
   ]
  },
  {
   "cell_type": "code",
   "execution_count": 12,
   "id": "39aaffb3-afdf-4fc1-b166-5e1415af9640",
   "metadata": {},
   "outputs": [
    {
     "name": "stdout",
     "output_type": "stream",
     "text": [
      "[100 200 300 400 500]\n",
      "0    100\n",
      "1    200\n",
      "2    300\n",
      "3    400\n",
      "4    500\n",
      "dtype: int32\n",
      "[100 888 300 400 500]\n",
      "0    999\n",
      "1    200\n",
      "2    300\n",
      "3    400\n",
      "4    500\n",
      "dtype: int32\n"
     ]
    }
   ],
   "source": [
    "arr1 = np.array([100, 200, 300, 400, 500])\n",
    "print(arr1)\n",
    "s = pd.Series(data = arr1, copy = True)\n",
    "print (s)\n",
    "s[0] = 999\n",
    "arr1[1] = 888\n",
    "print (arr1)\n",
    "print (s)"
   ]
  },
  {
   "cell_type": "code",
   "execution_count": 13,
   "id": "7360ce37-9544-4f2b-841e-d22ac7b8524a",
   "metadata": {},
   "outputs": [
    {
     "name": "stdout",
     "output_type": "stream",
     "text": [
      "['Amit' 'Kamal' 'Binay' 'Tuhin'] <class 'numpy.ndarray'>\n",
      "0     Amit\n",
      "1    Kamal\n",
      "2    Binay\n",
      "3    Tuhin\n",
      "dtype: object\n",
      "<class 'pandas.core.series.Series'>\n"
     ]
    }
   ],
   "source": [
    "# creating Series from ndarray\n",
    "my_data = np.array(['Amit', 'Kamal', 'Binay', 'Tuhin'])\n",
    "print (my_data, type(my_data))\n",
    "s = pd.Series(data = my_data)\n",
    "print (s)\n",
    "print (type(s))"
   ]
  },
  {
   "cell_type": "code",
   "execution_count": 14,
   "id": "db139fc3-bb23-4751-9867-591a2a1747a3",
   "metadata": {},
   "outputs": [
    {
     "name": "stdout",
     "output_type": "stream",
     "text": [
      "['Amit' 'Kamal' 'Binay' 'Tuhin'] <class 'numpy.ndarray'>\n",
      "100     Amit\n",
      "101    Kamal\n",
      "102    Binay\n",
      "103    Tuhin\n",
      "dtype: object\n",
      "<class 'pandas.core.series.Series'>\n",
      "Kamal Tuhin\n"
     ]
    }
   ],
   "source": [
    "# creating Series from ndarray\n",
    "my_data = np.array(['Amit', 'Kamal', 'Binay', 'Tuhin'])\n",
    "print (my_data, type(my_data))\n",
    "s = pd.Series(data = my_data, index = [100, 101, 102, 103])\n",
    "print (s)\n",
    "print (type(s))\n",
    "print (s[101], s[103])"
   ]
  },
  {
   "cell_type": "code",
   "execution_count": 15,
   "id": "38c285c1-fc76-4905-a63b-b1d1ca8c6490",
   "metadata": {},
   "outputs": [
    {
     "name": "stdout",
     "output_type": "stream",
     "text": [
      "['Amit' 'Kamal' 'Binay' 'Tuhin'] <class 'numpy.ndarray'>\n",
      "103     Amit\n",
      "101    Kamal\n",
      "101    Binay\n",
      "103    Tuhin\n",
      "dtype: object\n",
      "<class 'pandas.core.series.Series'>\n",
      "101    Kamal\n",
      "101    Binay\n",
      "dtype: object\n",
      "103     Amit\n",
      "103    Tuhin\n",
      "dtype: object\n"
     ]
    }
   ],
   "source": [
    "# creating Series from ndarray\n",
    "my_data = np.array(['Amit', 'Kamal', 'Binay', 'Tuhin'])\n",
    "print (my_data, type(my_data))\n",
    "s = pd.Series(data = my_data, index = [103, 101, 101, 103])\n",
    "print (s)\n",
    "print (type(s))\n",
    "print (s[101])\n",
    "print (s[103])"
   ]
  },
  {
   "cell_type": "code",
   "execution_count": 16,
   "id": "1cba0077-f558-4fa8-a6e7-e24daed8e7ec",
   "metadata": {},
   "outputs": [
    {
     "name": "stdout",
     "output_type": "stream",
     "text": [
      "['Amit' 'Kamal' 'Binay' 'Tuhin'] <class 'numpy.ndarray'>\n",
      "1st     Amit\n",
      "2nd    Kamal\n",
      "2nd    Binay\n",
      "3rd    Tuhin\n",
      "dtype: object\n",
      "<class 'pandas.core.series.Series'>\n",
      "Amit <class 'str'>\n",
      "2nd    Kamal\n",
      "2nd    Binay\n",
      "dtype: object <class 'pandas.core.series.Series'>\n",
      "Amit Binay\n"
     ]
    }
   ],
   "source": [
    "# creating Series from ndarray\n",
    "my_data = np.array(['Amit', 'Kamal', 'Binay', 'Tuhin'])\n",
    "print (my_data, type(my_data))\n",
    "s = pd.Series(data = my_data, index = ['1st', '2nd', '2nd', '3rd'])\n",
    "print (s)\n",
    "print (type(s))\n",
    "print (s['1st'], type(s['1st']))\n",
    "print (s['2nd'], type(s['2nd']))\n",
    "print (s[0], s[2])"
   ]
  },
  {
   "cell_type": "code",
   "execution_count": 17,
   "id": "f9489d72-6ee9-431f-a43c-306b2c29d0e0",
   "metadata": {},
   "outputs": [
    {
     "name": "stdout",
     "output_type": "stream",
     "text": [
      "{'a': 100, 'b': 300, 'c': 700, 'd': 900, 'e': 450} <class 'dict'>\n",
      "a    100\n",
      "b    300\n",
      "c    700\n",
      "d    900\n",
      "e    450\n",
      "dtype: int64\n",
      "c    700.0\n",
      "c    700.0\n",
      "e    450.0\n",
      "e    450.0\n",
      "b    300.0\n",
      "a    100.0\n",
      "x      NaN\n",
      "dtype: float64\n"
     ]
    }
   ],
   "source": [
    "# creating Series from dictionary\n",
    "my_data = {'a':100, 'b':300, 'c':700, 'd':900, 'e':450}\n",
    "print (my_data, type(my_data))\n",
    "s = pd.Series(data = my_data)\n",
    "print (s)\n",
    "s = pd.Series(data = my_data, index = ['c', 'c', 'e', 'e', 'b', 'a', 'x'])\n",
    "print (s)"
   ]
  },
  {
   "cell_type": "code",
   "execution_count": 18,
   "id": "e3c73831-ba61-4f0d-8806-778e0a287364",
   "metadata": {},
   "outputs": [
    {
     "name": "stdout",
     "output_type": "stream",
     "text": [
      "0    5\n",
      "1    5\n",
      "2    5\n",
      "3    5\n",
      "4    5\n",
      "dtype: int64\n",
      "<class 'pandas.core.series.Series'>\n"
     ]
    }
   ],
   "source": [
    "# creating Series from a scalar or constant\n",
    "s = pd.Series(5, index = [0, 1, 2, 3, 4])\n",
    "print (s)\n",
    "print (type(s))"
   ]
  },
  {
   "cell_type": "code",
   "execution_count": 19,
   "id": "aefe0e63-a2a8-4bd9-86e2-19fbad2710c4",
   "metadata": {},
   "outputs": [
    {
     "name": "stdout",
     "output_type": "stream",
     "text": [
      "[11, 22, 33, 55, 44] <class 'list'>\n",
      "a    11\n",
      "b    22\n",
      "c    33\n",
      "d    55\n",
      "e    44\n",
      "dtype: int64\n",
      "<class 'pandas.core.series.Series'>\n",
      "11 <class 'numpy.int64'>\n",
      "11 <class 'numpy.int64'>\n"
     ]
    }
   ],
   "source": [
    "# creating Series from a list\n",
    "my_data = [11, 22, 33, 55, 44]\n",
    "print (my_data, type(my_data))\n",
    "s = pd.Series(data = my_data, index = ['a', 'b', 'c', 'd', 'e'])\n",
    "print (s)\n",
    "print (type(s))\n",
    "print (s['a'], type(s['a']))\n",
    "print (s[0], type(s[0]))"
   ]
  },
  {
   "cell_type": "code",
   "execution_count": 20,
   "id": "5b0dc289-0c0e-49a7-a7e5-eba0d04f8b91",
   "metadata": {},
   "outputs": [
    {
     "name": "stdout",
     "output_type": "stream",
     "text": [
      "a    11\n",
      "b    22\n",
      "c    33\n",
      "d    55\n",
      "e    44\n",
      "dtype: int64\n",
      "11 11\n",
      "55 55\n",
      "a    11\n",
      "b    22\n",
      "c    33\n",
      "dtype: int64\n",
      "c    33\n",
      "d    55\n",
      "e    44\n",
      "dtype: int64\n"
     ]
    }
   ],
   "source": [
    "print (s)\n",
    "print (s['a'], s[0]) # indexing\n",
    "print (s['d'], s[3])\n",
    "print (s[:3]) # slicing\n",
    "print (s[2:])"
   ]
  },
  {
   "cell_type": "markdown",
   "id": "2341cba6-eb5f-4538-a7ab-498de4a99bc5",
   "metadata": {},
   "source": [
    "### Data Frame Data Structure"
   ]
  },
  {
   "cell_type": "code",
   "execution_count": 21,
   "id": "d6d5073c-4e05-4407-ac0f-441f56dd52b9",
   "metadata": {},
   "outputs": [
    {
     "data": {
      "text/html": [
       "<div>\n",
       "<style scoped>\n",
       "    .dataframe tbody tr th:only-of-type {\n",
       "        vertical-align: middle;\n",
       "    }\n",
       "\n",
       "    .dataframe tbody tr th {\n",
       "        vertical-align: top;\n",
       "    }\n",
       "\n",
       "    .dataframe thead th {\n",
       "        text-align: right;\n",
       "    }\n",
       "</style>\n",
       "<table border=\"1\" class=\"dataframe\">\n",
       "  <thead>\n",
       "    <tr style=\"text-align: right;\">\n",
       "      <th></th>\n",
       "      <th>emp_name</th>\n",
       "      <th>emp_age</th>\n",
       "    </tr>\n",
       "  </thead>\n",
       "  <tbody>\n",
       "    <tr>\n",
       "      <th>0</th>\n",
       "      <td>Amal</td>\n",
       "      <td>35</td>\n",
       "    </tr>\n",
       "    <tr>\n",
       "      <th>1</th>\n",
       "      <td>Kamal</td>\n",
       "      <td>45</td>\n",
       "    </tr>\n",
       "    <tr>\n",
       "      <th>2</th>\n",
       "      <td>Bimal</td>\n",
       "      <td>55</td>\n",
       "    </tr>\n",
       "  </tbody>\n",
       "</table>\n",
       "</div>"
      ],
      "text/plain": [
       "  emp_name  emp_age\n",
       "0     Amal       35\n",
       "1    Kamal       45\n",
       "2    Bimal       55"
      ]
     },
     "execution_count": 21,
     "metadata": {},
     "output_type": "execute_result"
    }
   ],
   "source": [
    "my_data = {'emp_name':['Amal', 'Kamal', ' Bimal'],\n",
    "           'emp_age':[35, 45, 55]}\n",
    "emp_id = [1001, 1002, 1003]\n",
    "df = pd.DataFrame(data = my_data)\n",
    "df"
   ]
  },
  {
   "cell_type": "code",
   "execution_count": 22,
   "id": "5dfa25bc-7c73-4f2c-b0fe-3f4256df2e90",
   "metadata": {},
   "outputs": [
    {
     "data": {
      "text/html": [
       "<div>\n",
       "<style scoped>\n",
       "    .dataframe tbody tr th:only-of-type {\n",
       "        vertical-align: middle;\n",
       "    }\n",
       "\n",
       "    .dataframe tbody tr th {\n",
       "        vertical-align: top;\n",
       "    }\n",
       "\n",
       "    .dataframe thead th {\n",
       "        text-align: right;\n",
       "    }\n",
       "</style>\n",
       "<table border=\"1\" class=\"dataframe\">\n",
       "  <thead>\n",
       "    <tr style=\"text-align: right;\">\n",
       "      <th></th>\n",
       "      <th>emp_name</th>\n",
       "      <th>emp_age</th>\n",
       "    </tr>\n",
       "  </thead>\n",
       "  <tbody>\n",
       "    <tr>\n",
       "      <th>1001</th>\n",
       "      <td>Amal</td>\n",
       "      <td>35</td>\n",
       "    </tr>\n",
       "    <tr>\n",
       "      <th>1002</th>\n",
       "      <td>Kamal</td>\n",
       "      <td>45</td>\n",
       "    </tr>\n",
       "    <tr>\n",
       "      <th>1003</th>\n",
       "      <td>Bimal</td>\n",
       "      <td>55</td>\n",
       "    </tr>\n",
       "  </tbody>\n",
       "</table>\n",
       "</div>"
      ],
      "text/plain": [
       "     emp_name  emp_age\n",
       "1001     Amal       35\n",
       "1002    Kamal       45\n",
       "1003    Bimal       55"
      ]
     },
     "execution_count": 22,
     "metadata": {},
     "output_type": "execute_result"
    }
   ],
   "source": [
    "my_data = {'emp_name':['Amal', 'Kamal', ' Bimal'],\n",
    "           'emp_age':[35, 45, 55]}\n",
    "emp_id = [1001, 1002, 1003]\n",
    "df = pd.DataFrame(data = my_data, index = emp_id)\n",
    "df"
   ]
  },
  {
   "cell_type": "code",
   "execution_count": 23,
   "id": "3c7ef9cb-ca99-4440-803a-fa546b3caefe",
   "metadata": {},
   "outputs": [
    {
     "data": {
      "text/html": [
       "<div>\n",
       "<style scoped>\n",
       "    .dataframe tbody tr th:only-of-type {\n",
       "        vertical-align: middle;\n",
       "    }\n",
       "\n",
       "    .dataframe tbody tr th {\n",
       "        vertical-align: top;\n",
       "    }\n",
       "\n",
       "    .dataframe thead th {\n",
       "        text-align: right;\n",
       "    }\n",
       "</style>\n",
       "<table border=\"1\" class=\"dataframe\">\n",
       "  <thead>\n",
       "    <tr style=\"text-align: right;\">\n",
       "      <th></th>\n",
       "      <th>index</th>\n",
       "      <th>emp_name</th>\n",
       "      <th>emp_age</th>\n",
       "    </tr>\n",
       "  </thead>\n",
       "  <tbody>\n",
       "    <tr>\n",
       "      <th>0</th>\n",
       "      <td>1001</td>\n",
       "      <td>Amal</td>\n",
       "      <td>35</td>\n",
       "    </tr>\n",
       "    <tr>\n",
       "      <th>1</th>\n",
       "      <td>1002</td>\n",
       "      <td>Kamal</td>\n",
       "      <td>45</td>\n",
       "    </tr>\n",
       "    <tr>\n",
       "      <th>2</th>\n",
       "      <td>1003</td>\n",
       "      <td>Bimal</td>\n",
       "      <td>55</td>\n",
       "    </tr>\n",
       "  </tbody>\n",
       "</table>\n",
       "</div>"
      ],
      "text/plain": [
       "   index emp_name  emp_age\n",
       "0   1001     Amal       35\n",
       "1   1002    Kamal       45\n",
       "2   1003    Bimal       55"
      ]
     },
     "execution_count": 23,
     "metadata": {},
     "output_type": "execute_result"
    }
   ],
   "source": [
    "df = df.reset_index()\n",
    "df"
   ]
  },
  {
   "cell_type": "code",
   "execution_count": 24,
   "id": "1d2b0fec-4d5d-4cac-b9dc-2af2da697f8f",
   "metadata": {},
   "outputs": [
    {
     "name": "stdout",
     "output_type": "stream",
     "text": [
      "  emp_name  emp_age\n",
      "0     Amal       35\n",
      "1    Kamal       45\n",
      "2    Bimal       55\n",
      "[['Amal' 35]\n",
      " ['Kamal' 45]\n",
      " [' Bimal' 55]] <class 'numpy.ndarray'>\n"
     ]
    }
   ],
   "source": [
    "# converting data frame to ndarray\n",
    "X = df[['emp_name', 'emp_age']]\n",
    "print (X)\n",
    "Y = X.to_numpy()\n",
    "print (Y, type(Y))"
   ]
  },
  {
   "cell_type": "code",
   "execution_count": 25,
   "id": "4d8df4b7-21e1-4c6d-b71f-620c2588bb63",
   "metadata": {},
   "outputs": [
    {
     "name": "stdout",
     "output_type": "stream",
     "text": [
      "100\n",
      "200\n"
     ]
    }
   ],
   "source": [
    "var1 = 100\n",
    "var2 = 200\n",
    "print (var1)\n",
    "print (var2)"
   ]
  },
  {
   "cell_type": "code",
   "execution_count": 26,
   "id": "d7d9c5d0-7332-4bfc-853e-736b6954a18b",
   "metadata": {},
   "outputs": [
    {
     "data": {
      "text/html": [
       "<div>\n",
       "<style scoped>\n",
       "    .dataframe tbody tr th:only-of-type {\n",
       "        vertical-align: middle;\n",
       "    }\n",
       "\n",
       "    .dataframe tbody tr th {\n",
       "        vertical-align: top;\n",
       "    }\n",
       "\n",
       "    .dataframe thead th {\n",
       "        text-align: right;\n",
       "    }\n",
       "</style>\n",
       "<table border=\"1\" class=\"dataframe\">\n",
       "  <thead>\n",
       "    <tr style=\"text-align: right;\">\n",
       "      <th></th>\n",
       "      <th>name</th>\n",
       "      <th>age</th>\n",
       "      <th>gender</th>\n",
       "      <th>job</th>\n",
       "    </tr>\n",
       "  </thead>\n",
       "  <tbody>\n",
       "    <tr>\n",
       "      <th>0</th>\n",
       "      <td>alice</td>\n",
       "      <td>19</td>\n",
       "      <td>F</td>\n",
       "      <td>student</td>\n",
       "    </tr>\n",
       "    <tr>\n",
       "      <th>1</th>\n",
       "      <td>john</td>\n",
       "      <td>26</td>\n",
       "      <td>M</td>\n",
       "      <td>student</td>\n",
       "    </tr>\n",
       "  </tbody>\n",
       "</table>\n",
       "</div>"
      ],
      "text/plain": [
       "    name  age gender      job\n",
       "0  alice   19      F  student\n",
       "1   john   26      M  student"
      ]
     },
     "execution_count": 26,
     "metadata": {},
     "output_type": "execute_result"
    }
   ],
   "source": [
    "my_columns = ['name', 'age', 'gender', 'job']\n",
    "my_data = [['alice', 19, 'F', 'student'], ['john', 26, 'M', 'student']]\n",
    "user1 = pd.DataFrame(data = my_data, columns = my_columns)\n",
    "user1"
   ]
  },
  {
   "cell_type": "code",
   "execution_count": 27,
   "id": "682400fd-5fa1-4430-a8a8-406c54441b36",
   "metadata": {},
   "outputs": [
    {
     "data": {
      "text/html": [
       "<div>\n",
       "<style scoped>\n",
       "    .dataframe tbody tr th:only-of-type {\n",
       "        vertical-align: middle;\n",
       "    }\n",
       "\n",
       "    .dataframe tbody tr th {\n",
       "        vertical-align: top;\n",
       "    }\n",
       "\n",
       "    .dataframe thead th {\n",
       "        text-align: right;\n",
       "    }\n",
       "</style>\n",
       "<table border=\"1\" class=\"dataframe\">\n",
       "  <thead>\n",
       "    <tr style=\"text-align: right;\">\n",
       "      <th></th>\n",
       "      <th>name</th>\n",
       "      <th>age</th>\n",
       "      <th>gender</th>\n",
       "      <th>job</th>\n",
       "    </tr>\n",
       "  </thead>\n",
       "  <tbody>\n",
       "    <tr>\n",
       "      <th>0</th>\n",
       "      <td>eric</td>\n",
       "      <td>22</td>\n",
       "      <td>M</td>\n",
       "      <td>student</td>\n",
       "    </tr>\n",
       "    <tr>\n",
       "      <th>1</th>\n",
       "      <td>paul</td>\n",
       "      <td>58</td>\n",
       "      <td>F</td>\n",
       "      <td>manager</td>\n",
       "    </tr>\n",
       "  </tbody>\n",
       "</table>\n",
       "</div>"
      ],
      "text/plain": [
       "   name  age gender      job\n",
       "0  eric   22      M  student\n",
       "1  paul   58      F  manager"
      ]
     },
     "execution_count": 27,
     "metadata": {},
     "output_type": "execute_result"
    }
   ],
   "source": [
    "my_columns = ['name', 'age', 'gender', 'job']\n",
    "my_data = [['eric', 22, 'M', 'student'], ['paul', 58, 'F', 'manager']]\n",
    "user2 = pd.DataFrame(data = my_data, columns = my_columns)\n",
    "user2"
   ]
  },
  {
   "cell_type": "code",
   "execution_count": 28,
   "id": "ad1c9208-09f7-46d3-8e43-1add0bf36e3b",
   "metadata": {},
   "outputs": [
    {
     "name": "stdout",
     "output_type": "stream",
     "text": [
      "{'name': ['peter', 'julie'], 'age': [33, 44], 'gender': ['M', 'F'], 'job': ['engineer', 'scientist']} <class 'dict'>\n"
     ]
    },
    {
     "data": {
      "text/html": [
       "<div>\n",
       "<style scoped>\n",
       "    .dataframe tbody tr th:only-of-type {\n",
       "        vertical-align: middle;\n",
       "    }\n",
       "\n",
       "    .dataframe tbody tr th {\n",
       "        vertical-align: top;\n",
       "    }\n",
       "\n",
       "    .dataframe thead th {\n",
       "        text-align: right;\n",
       "    }\n",
       "</style>\n",
       "<table border=\"1\" class=\"dataframe\">\n",
       "  <thead>\n",
       "    <tr style=\"text-align: right;\">\n",
       "      <th></th>\n",
       "      <th>name</th>\n",
       "      <th>age</th>\n",
       "      <th>gender</th>\n",
       "      <th>job</th>\n",
       "    </tr>\n",
       "  </thead>\n",
       "  <tbody>\n",
       "    <tr>\n",
       "      <th>0</th>\n",
       "      <td>peter</td>\n",
       "      <td>33</td>\n",
       "      <td>M</td>\n",
       "      <td>engineer</td>\n",
       "    </tr>\n",
       "    <tr>\n",
       "      <th>1</th>\n",
       "      <td>julie</td>\n",
       "      <td>44</td>\n",
       "      <td>F</td>\n",
       "      <td>scientist</td>\n",
       "    </tr>\n",
       "  </tbody>\n",
       "</table>\n",
       "</div>"
      ],
      "text/plain": [
       "    name  age gender        job\n",
       "0  peter   33      M   engineer\n",
       "1  julie   44      F  scientist"
      ]
     },
     "execution_count": 28,
     "metadata": {},
     "output_type": "execute_result"
    }
   ],
   "source": [
    "my_dict = dict(name=['peter', 'julie'], age=[33, 44], gender=['M', 'F'], job=['engineer', 'scientist'])\n",
    "print (my_dict, type(my_dict))\n",
    "user3 = pd.DataFrame(data = my_dict)\n",
    "user3"
   ]
  },
  {
   "cell_type": "markdown",
   "id": "1bacc118-7473-4c34-996c-75b412a98124",
   "metadata": {},
   "source": [
    "### Concatenate Data Frame"
   ]
  },
  {
   "cell_type": "code",
   "execution_count": 29,
   "id": "52565f9a-fa64-46e8-8625-944a0bac683f",
   "metadata": {},
   "outputs": [
    {
     "data": {
      "text/html": [
       "<div>\n",
       "<style scoped>\n",
       "    .dataframe tbody tr th:only-of-type {\n",
       "        vertical-align: middle;\n",
       "    }\n",
       "\n",
       "    .dataframe tbody tr th {\n",
       "        vertical-align: top;\n",
       "    }\n",
       "\n",
       "    .dataframe thead th {\n",
       "        text-align: right;\n",
       "    }\n",
       "</style>\n",
       "<table border=\"1\" class=\"dataframe\">\n",
       "  <thead>\n",
       "    <tr style=\"text-align: right;\">\n",
       "      <th></th>\n",
       "      <th>name</th>\n",
       "      <th>age</th>\n",
       "      <th>gender</th>\n",
       "      <th>job</th>\n",
       "    </tr>\n",
       "  </thead>\n",
       "  <tbody>\n",
       "    <tr>\n",
       "      <th>0</th>\n",
       "      <td>alice</td>\n",
       "      <td>19</td>\n",
       "      <td>F</td>\n",
       "      <td>student</td>\n",
       "    </tr>\n",
       "    <tr>\n",
       "      <th>1</th>\n",
       "      <td>john</td>\n",
       "      <td>26</td>\n",
       "      <td>M</td>\n",
       "      <td>student</td>\n",
       "    </tr>\n",
       "    <tr>\n",
       "      <th>0</th>\n",
       "      <td>eric</td>\n",
       "      <td>22</td>\n",
       "      <td>M</td>\n",
       "      <td>student</td>\n",
       "    </tr>\n",
       "    <tr>\n",
       "      <th>1</th>\n",
       "      <td>paul</td>\n",
       "      <td>58</td>\n",
       "      <td>F</td>\n",
       "      <td>manager</td>\n",
       "    </tr>\n",
       "  </tbody>\n",
       "</table>\n",
       "</div>"
      ],
      "text/plain": [
       "    name  age gender      job\n",
       "0  alice   19      F  student\n",
       "1   john   26      M  student\n",
       "0   eric   22      M  student\n",
       "1   paul   58      F  manager"
      ]
     },
     "execution_count": 29,
     "metadata": {},
     "output_type": "execute_result"
    }
   ],
   "source": [
    "df = user1.append(user2)\n",
    "df"
   ]
  },
  {
   "cell_type": "code",
   "execution_count": 30,
   "id": "f29835e1-f357-4ed6-ba7d-d493d09b72a6",
   "metadata": {},
   "outputs": [
    {
     "data": {
      "text/html": [
       "<div>\n",
       "<style scoped>\n",
       "    .dataframe tbody tr th:only-of-type {\n",
       "        vertical-align: middle;\n",
       "    }\n",
       "\n",
       "    .dataframe tbody tr th {\n",
       "        vertical-align: top;\n",
       "    }\n",
       "\n",
       "    .dataframe thead th {\n",
       "        text-align: right;\n",
       "    }\n",
       "</style>\n",
       "<table border=\"1\" class=\"dataframe\">\n",
       "  <thead>\n",
       "    <tr style=\"text-align: right;\">\n",
       "      <th></th>\n",
       "      <th>name</th>\n",
       "      <th>age</th>\n",
       "      <th>gender</th>\n",
       "      <th>job</th>\n",
       "    </tr>\n",
       "  </thead>\n",
       "  <tbody>\n",
       "    <tr>\n",
       "      <th>0</th>\n",
       "      <td>alice</td>\n",
       "      <td>19</td>\n",
       "      <td>F</td>\n",
       "      <td>student</td>\n",
       "    </tr>\n",
       "    <tr>\n",
       "      <th>1</th>\n",
       "      <td>john</td>\n",
       "      <td>26</td>\n",
       "      <td>M</td>\n",
       "      <td>student</td>\n",
       "    </tr>\n",
       "    <tr>\n",
       "      <th>2</th>\n",
       "      <td>eric</td>\n",
       "      <td>22</td>\n",
       "      <td>M</td>\n",
       "      <td>student</td>\n",
       "    </tr>\n",
       "    <tr>\n",
       "      <th>3</th>\n",
       "      <td>paul</td>\n",
       "      <td>58</td>\n",
       "      <td>F</td>\n",
       "      <td>manager</td>\n",
       "    </tr>\n",
       "  </tbody>\n",
       "</table>\n",
       "</div>"
      ],
      "text/plain": [
       "    name  age gender      job\n",
       "0  alice   19      F  student\n",
       "1   john   26      M  student\n",
       "2   eric   22      M  student\n",
       "3   paul   58      F  manager"
      ]
     },
     "execution_count": 30,
     "metadata": {},
     "output_type": "execute_result"
    }
   ],
   "source": [
    "df = user1.append(user2, ignore_index = True)\n",
    "df"
   ]
  },
  {
   "cell_type": "code",
   "execution_count": 31,
   "id": "e144bc2a-e176-49b2-b019-c6145b5a5969",
   "metadata": {},
   "outputs": [
    {
     "data": {
      "text/html": [
       "<div>\n",
       "<style scoped>\n",
       "    .dataframe tbody tr th:only-of-type {\n",
       "        vertical-align: middle;\n",
       "    }\n",
       "\n",
       "    .dataframe tbody tr th {\n",
       "        vertical-align: top;\n",
       "    }\n",
       "\n",
       "    .dataframe thead th {\n",
       "        text-align: right;\n",
       "    }\n",
       "</style>\n",
       "<table border=\"1\" class=\"dataframe\">\n",
       "  <thead>\n",
       "    <tr style=\"text-align: right;\">\n",
       "      <th></th>\n",
       "      <th>name</th>\n",
       "      <th>age</th>\n",
       "      <th>gender</th>\n",
       "      <th>job</th>\n",
       "    </tr>\n",
       "  </thead>\n",
       "  <tbody>\n",
       "    <tr>\n",
       "      <th>0</th>\n",
       "      <td>alice</td>\n",
       "      <td>19</td>\n",
       "      <td>F</td>\n",
       "      <td>student</td>\n",
       "    </tr>\n",
       "    <tr>\n",
       "      <th>1</th>\n",
       "      <td>john</td>\n",
       "      <td>26</td>\n",
       "      <td>M</td>\n",
       "      <td>student</td>\n",
       "    </tr>\n",
       "    <tr>\n",
       "      <th>2</th>\n",
       "      <td>eric</td>\n",
       "      <td>22</td>\n",
       "      <td>M</td>\n",
       "      <td>student</td>\n",
       "    </tr>\n",
       "    <tr>\n",
       "      <th>3</th>\n",
       "      <td>paul</td>\n",
       "      <td>58</td>\n",
       "      <td>F</td>\n",
       "      <td>manager</td>\n",
       "    </tr>\n",
       "    <tr>\n",
       "      <th>4</th>\n",
       "      <td>peter</td>\n",
       "      <td>33</td>\n",
       "      <td>M</td>\n",
       "      <td>engineer</td>\n",
       "    </tr>\n",
       "    <tr>\n",
       "      <th>5</th>\n",
       "      <td>julie</td>\n",
       "      <td>44</td>\n",
       "      <td>F</td>\n",
       "      <td>scientist</td>\n",
       "    </tr>\n",
       "  </tbody>\n",
       "</table>\n",
       "</div>"
      ],
      "text/plain": [
       "    name  age gender        job\n",
       "0  alice   19      F    student\n",
       "1   john   26      M    student\n",
       "2   eric   22      M    student\n",
       "3   paul   58      F    manager\n",
       "4  peter   33      M   engineer\n",
       "5  julie   44      F  scientist"
      ]
     },
     "execution_count": 31,
     "metadata": {},
     "output_type": "execute_result"
    }
   ],
   "source": [
    "df = user1.append(user2).append(user3, ignore_index = True)\n",
    "df"
   ]
  },
  {
   "cell_type": "code",
   "execution_count": 32,
   "id": "30ed69ae-39a9-4052-b9a9-5feb9d5d561c",
   "metadata": {},
   "outputs": [
    {
     "data": {
      "text/html": [
       "<div>\n",
       "<style scoped>\n",
       "    .dataframe tbody tr th:only-of-type {\n",
       "        vertical-align: middle;\n",
       "    }\n",
       "\n",
       "    .dataframe tbody tr th {\n",
       "        vertical-align: top;\n",
       "    }\n",
       "\n",
       "    .dataframe thead th {\n",
       "        text-align: right;\n",
       "    }\n",
       "</style>\n",
       "<table border=\"1\" class=\"dataframe\">\n",
       "  <thead>\n",
       "    <tr style=\"text-align: right;\">\n",
       "      <th></th>\n",
       "      <th>name</th>\n",
       "      <th>age</th>\n",
       "      <th>gender</th>\n",
       "      <th>job</th>\n",
       "    </tr>\n",
       "  </thead>\n",
       "  <tbody>\n",
       "    <tr>\n",
       "      <th>0</th>\n",
       "      <td>alice</td>\n",
       "      <td>19</td>\n",
       "      <td>F</td>\n",
       "      <td>student</td>\n",
       "    </tr>\n",
       "    <tr>\n",
       "      <th>1</th>\n",
       "      <td>john</td>\n",
       "      <td>26</td>\n",
       "      <td>M</td>\n",
       "      <td>student</td>\n",
       "    </tr>\n",
       "    <tr>\n",
       "      <th>0</th>\n",
       "      <td>eric</td>\n",
       "      <td>22</td>\n",
       "      <td>M</td>\n",
       "      <td>student</td>\n",
       "    </tr>\n",
       "    <tr>\n",
       "      <th>1</th>\n",
       "      <td>paul</td>\n",
       "      <td>58</td>\n",
       "      <td>F</td>\n",
       "      <td>manager</td>\n",
       "    </tr>\n",
       "    <tr>\n",
       "      <th>0</th>\n",
       "      <td>peter</td>\n",
       "      <td>33</td>\n",
       "      <td>M</td>\n",
       "      <td>engineer</td>\n",
       "    </tr>\n",
       "    <tr>\n",
       "      <th>1</th>\n",
       "      <td>julie</td>\n",
       "      <td>44</td>\n",
       "      <td>F</td>\n",
       "      <td>scientist</td>\n",
       "    </tr>\n",
       "  </tbody>\n",
       "</table>\n",
       "</div>"
      ],
      "text/plain": [
       "    name  age gender        job\n",
       "0  alice   19      F    student\n",
       "1   john   26      M    student\n",
       "0   eric   22      M    student\n",
       "1   paul   58      F    manager\n",
       "0  peter   33      M   engineer\n",
       "1  julie   44      F  scientist"
      ]
     },
     "execution_count": 32,
     "metadata": {},
     "output_type": "execute_result"
    }
   ],
   "source": [
    "users = pd.concat([user1, user2, user3])\n",
    "users"
   ]
  },
  {
   "cell_type": "code",
   "execution_count": 33,
   "id": "6642662b-1c6b-44a9-bf54-e0900a3798a7",
   "metadata": {},
   "outputs": [
    {
     "data": {
      "text/html": [
       "<div>\n",
       "<style scoped>\n",
       "    .dataframe tbody tr th:only-of-type {\n",
       "        vertical-align: middle;\n",
       "    }\n",
       "\n",
       "    .dataframe tbody tr th {\n",
       "        vertical-align: top;\n",
       "    }\n",
       "\n",
       "    .dataframe thead th {\n",
       "        text-align: right;\n",
       "    }\n",
       "</style>\n",
       "<table border=\"1\" class=\"dataframe\">\n",
       "  <thead>\n",
       "    <tr style=\"text-align: right;\">\n",
       "      <th></th>\n",
       "      <th>name</th>\n",
       "      <th>age</th>\n",
       "      <th>gender</th>\n",
       "      <th>job</th>\n",
       "    </tr>\n",
       "  </thead>\n",
       "  <tbody>\n",
       "    <tr>\n",
       "      <th>0</th>\n",
       "      <td>alice</td>\n",
       "      <td>19</td>\n",
       "      <td>F</td>\n",
       "      <td>student</td>\n",
       "    </tr>\n",
       "    <tr>\n",
       "      <th>1</th>\n",
       "      <td>john</td>\n",
       "      <td>26</td>\n",
       "      <td>M</td>\n",
       "      <td>student</td>\n",
       "    </tr>\n",
       "    <tr>\n",
       "      <th>2</th>\n",
       "      <td>eric</td>\n",
       "      <td>22</td>\n",
       "      <td>M</td>\n",
       "      <td>student</td>\n",
       "    </tr>\n",
       "    <tr>\n",
       "      <th>3</th>\n",
       "      <td>paul</td>\n",
       "      <td>58</td>\n",
       "      <td>F</td>\n",
       "      <td>manager</td>\n",
       "    </tr>\n",
       "    <tr>\n",
       "      <th>4</th>\n",
       "      <td>peter</td>\n",
       "      <td>33</td>\n",
       "      <td>M</td>\n",
       "      <td>engineer</td>\n",
       "    </tr>\n",
       "    <tr>\n",
       "      <th>5</th>\n",
       "      <td>julie</td>\n",
       "      <td>44</td>\n",
       "      <td>F</td>\n",
       "      <td>scientist</td>\n",
       "    </tr>\n",
       "  </tbody>\n",
       "</table>\n",
       "</div>"
      ],
      "text/plain": [
       "    name  age gender        job\n",
       "0  alice   19      F    student\n",
       "1   john   26      M    student\n",
       "2   eric   22      M    student\n",
       "3   paul   58      F    manager\n",
       "4  peter   33      M   engineer\n",
       "5  julie   44      F  scientist"
      ]
     },
     "execution_count": 33,
     "metadata": {},
     "output_type": "execute_result"
    }
   ],
   "source": [
    "users = pd.concat([user1, user2, user3], ignore_index = True)\n",
    "users"
   ]
  },
  {
   "cell_type": "markdown",
   "id": "05061bef-36be-4556-bb1d-a1dae1c2db35",
   "metadata": {},
   "source": [
    "### Join Data Frame"
   ]
  },
  {
   "cell_type": "code",
   "execution_count": 34,
   "id": "cbb4c13f-c9be-4094-a9a0-4d2499dea8ac",
   "metadata": {},
   "outputs": [
    {
     "data": {
      "text/html": [
       "<div>\n",
       "<style scoped>\n",
       "    .dataframe tbody tr th:only-of-type {\n",
       "        vertical-align: middle;\n",
       "    }\n",
       "\n",
       "    .dataframe tbody tr th {\n",
       "        vertical-align: top;\n",
       "    }\n",
       "\n",
       "    .dataframe thead th {\n",
       "        text-align: right;\n",
       "    }\n",
       "</style>\n",
       "<table border=\"1\" class=\"dataframe\">\n",
       "  <thead>\n",
       "    <tr style=\"text-align: right;\">\n",
       "      <th></th>\n",
       "      <th>name</th>\n",
       "      <th>height</th>\n",
       "    </tr>\n",
       "  </thead>\n",
       "  <tbody>\n",
       "    <tr>\n",
       "      <th>0</th>\n",
       "      <td>alice</td>\n",
       "      <td>165</td>\n",
       "    </tr>\n",
       "    <tr>\n",
       "      <th>1</th>\n",
       "      <td>john</td>\n",
       "      <td>180</td>\n",
       "    </tr>\n",
       "    <tr>\n",
       "      <th>2</th>\n",
       "      <td>eric</td>\n",
       "      <td>175</td>\n",
       "    </tr>\n",
       "    <tr>\n",
       "      <th>3</th>\n",
       "      <td>julie</td>\n",
       "      <td>171</td>\n",
       "    </tr>\n",
       "    <tr>\n",
       "      <th>4</th>\n",
       "      <td>michel</td>\n",
       "      <td>185</td>\n",
       "    </tr>\n",
       "  </tbody>\n",
       "</table>\n",
       "</div>"
      ],
      "text/plain": [
       "     name  height\n",
       "0   alice     165\n",
       "1    john     180\n",
       "2    eric     175\n",
       "3   julie     171\n",
       "4  michel     185"
      ]
     },
     "execution_count": 34,
     "metadata": {},
     "output_type": "execute_result"
    }
   ],
   "source": [
    "my_dict = dict(name = ['alice', 'john', 'eric', 'julie', 'michel'],\n",
    "               height = [165, 180, 175, 171, 185])\n",
    "user4 = pd.DataFrame(data = my_dict)\n",
    "user4"
   ]
  },
  {
   "cell_type": "code",
   "execution_count": 35,
   "id": "c79137ce-105a-4bb7-88da-5ba99e352d8c",
   "metadata": {},
   "outputs": [
    {
     "data": {
      "text/html": [
       "<div>\n",
       "<style scoped>\n",
       "    .dataframe tbody tr th:only-of-type {\n",
       "        vertical-align: middle;\n",
       "    }\n",
       "\n",
       "    .dataframe tbody tr th {\n",
       "        vertical-align: top;\n",
       "    }\n",
       "\n",
       "    .dataframe thead th {\n",
       "        text-align: right;\n",
       "    }\n",
       "</style>\n",
       "<table border=\"1\" class=\"dataframe\">\n",
       "  <thead>\n",
       "    <tr style=\"text-align: right;\">\n",
       "      <th></th>\n",
       "      <th>name</th>\n",
       "      <th>age</th>\n",
       "      <th>gender</th>\n",
       "      <th>job</th>\n",
       "      <th>height</th>\n",
       "    </tr>\n",
       "  </thead>\n",
       "  <tbody>\n",
       "    <tr>\n",
       "      <th>0</th>\n",
       "      <td>alice</td>\n",
       "      <td>19</td>\n",
       "      <td>F</td>\n",
       "      <td>student</td>\n",
       "      <td>165</td>\n",
       "    </tr>\n",
       "    <tr>\n",
       "      <th>1</th>\n",
       "      <td>john</td>\n",
       "      <td>26</td>\n",
       "      <td>M</td>\n",
       "      <td>student</td>\n",
       "      <td>180</td>\n",
       "    </tr>\n",
       "    <tr>\n",
       "      <th>2</th>\n",
       "      <td>eric</td>\n",
       "      <td>22</td>\n",
       "      <td>M</td>\n",
       "      <td>student</td>\n",
       "      <td>175</td>\n",
       "    </tr>\n",
       "    <tr>\n",
       "      <th>3</th>\n",
       "      <td>julie</td>\n",
       "      <td>44</td>\n",
       "      <td>F</td>\n",
       "      <td>scientist</td>\n",
       "      <td>171</td>\n",
       "    </tr>\n",
       "  </tbody>\n",
       "</table>\n",
       "</div>"
      ],
      "text/plain": [
       "    name  age gender        job  height\n",
       "0  alice   19      F    student     165\n",
       "1   john   26      M    student     180\n",
       "2   eric   22      M    student     175\n",
       "3  julie   44      F  scientist     171"
      ]
     },
     "execution_count": 35,
     "metadata": {},
     "output_type": "execute_result"
    }
   ],
   "source": [
    "# inner join:  only common records\n",
    "merge_inner = pd.merge(users, user4, on = \"name\", how = \"inner\")\n",
    "merge_inner"
   ]
  },
  {
   "cell_type": "code",
   "execution_count": 36,
   "id": "55033eb5-f1a0-4e6f-a956-7692cf1ddb86",
   "metadata": {},
   "outputs": [
    {
     "data": {
      "text/html": [
       "<div>\n",
       "<style scoped>\n",
       "    .dataframe tbody tr th:only-of-type {\n",
       "        vertical-align: middle;\n",
       "    }\n",
       "\n",
       "    .dataframe tbody tr th {\n",
       "        vertical-align: top;\n",
       "    }\n",
       "\n",
       "    .dataframe thead th {\n",
       "        text-align: right;\n",
       "    }\n",
       "</style>\n",
       "<table border=\"1\" class=\"dataframe\">\n",
       "  <thead>\n",
       "    <tr style=\"text-align: right;\">\n",
       "      <th></th>\n",
       "      <th>name</th>\n",
       "      <th>age</th>\n",
       "      <th>gender</th>\n",
       "      <th>job</th>\n",
       "      <th>height</th>\n",
       "    </tr>\n",
       "  </thead>\n",
       "  <tbody>\n",
       "    <tr>\n",
       "      <th>0</th>\n",
       "      <td>alice</td>\n",
       "      <td>19</td>\n",
       "      <td>F</td>\n",
       "      <td>student</td>\n",
       "      <td>165</td>\n",
       "    </tr>\n",
       "    <tr>\n",
       "      <th>1</th>\n",
       "      <td>john</td>\n",
       "      <td>26</td>\n",
       "      <td>M</td>\n",
       "      <td>student</td>\n",
       "      <td>180</td>\n",
       "    </tr>\n",
       "    <tr>\n",
       "      <th>2</th>\n",
       "      <td>eric</td>\n",
       "      <td>22</td>\n",
       "      <td>M</td>\n",
       "      <td>student</td>\n",
       "      <td>175</td>\n",
       "    </tr>\n",
       "    <tr>\n",
       "      <th>3</th>\n",
       "      <td>julie</td>\n",
       "      <td>44</td>\n",
       "      <td>F</td>\n",
       "      <td>scientist</td>\n",
       "      <td>171</td>\n",
       "    </tr>\n",
       "  </tbody>\n",
       "</table>\n",
       "</div>"
      ],
      "text/plain": [
       "    name  age gender        job  height\n",
       "0  alice   19      F    student     165\n",
       "1   john   26      M    student     180\n",
       "2   eric   22      M    student     175\n",
       "3  julie   44      F  scientist     171"
      ]
     },
     "execution_count": 36,
     "metadata": {},
     "output_type": "execute_result"
    }
   ],
   "source": [
    "# inner join:  only common records\n",
    "merge_inner = pd.merge(users, user4, on = \"name\")  # by default inner join\n",
    "merge_inner"
   ]
  },
  {
   "cell_type": "code",
   "execution_count": 37,
   "id": "b8479d0f-efb6-4fd3-b961-eaad53faa402",
   "metadata": {},
   "outputs": [
    {
     "data": {
      "text/html": [
       "<div>\n",
       "<style scoped>\n",
       "    .dataframe tbody tr th:only-of-type {\n",
       "        vertical-align: middle;\n",
       "    }\n",
       "\n",
       "    .dataframe tbody tr th {\n",
       "        vertical-align: top;\n",
       "    }\n",
       "\n",
       "    .dataframe thead th {\n",
       "        text-align: right;\n",
       "    }\n",
       "</style>\n",
       "<table border=\"1\" class=\"dataframe\">\n",
       "  <thead>\n",
       "    <tr style=\"text-align: right;\">\n",
       "      <th></th>\n",
       "      <th>name</th>\n",
       "      <th>age</th>\n",
       "      <th>gender</th>\n",
       "      <th>job</th>\n",
       "      <th>height</th>\n",
       "    </tr>\n",
       "  </thead>\n",
       "  <tbody>\n",
       "    <tr>\n",
       "      <th>0</th>\n",
       "      <td>alice</td>\n",
       "      <td>19.0</td>\n",
       "      <td>F</td>\n",
       "      <td>student</td>\n",
       "      <td>165.0</td>\n",
       "    </tr>\n",
       "    <tr>\n",
       "      <th>1</th>\n",
       "      <td>john</td>\n",
       "      <td>26.0</td>\n",
       "      <td>M</td>\n",
       "      <td>student</td>\n",
       "      <td>180.0</td>\n",
       "    </tr>\n",
       "    <tr>\n",
       "      <th>2</th>\n",
       "      <td>eric</td>\n",
       "      <td>22.0</td>\n",
       "      <td>M</td>\n",
       "      <td>student</td>\n",
       "      <td>175.0</td>\n",
       "    </tr>\n",
       "    <tr>\n",
       "      <th>3</th>\n",
       "      <td>paul</td>\n",
       "      <td>58.0</td>\n",
       "      <td>F</td>\n",
       "      <td>manager</td>\n",
       "      <td>NaN</td>\n",
       "    </tr>\n",
       "    <tr>\n",
       "      <th>4</th>\n",
       "      <td>peter</td>\n",
       "      <td>33.0</td>\n",
       "      <td>M</td>\n",
       "      <td>engineer</td>\n",
       "      <td>NaN</td>\n",
       "    </tr>\n",
       "    <tr>\n",
       "      <th>5</th>\n",
       "      <td>julie</td>\n",
       "      <td>44.0</td>\n",
       "      <td>F</td>\n",
       "      <td>scientist</td>\n",
       "      <td>171.0</td>\n",
       "    </tr>\n",
       "    <tr>\n",
       "      <th>6</th>\n",
       "      <td>michel</td>\n",
       "      <td>NaN</td>\n",
       "      <td>NaN</td>\n",
       "      <td>NaN</td>\n",
       "      <td>185.0</td>\n",
       "    </tr>\n",
       "  </tbody>\n",
       "</table>\n",
       "</div>"
      ],
      "text/plain": [
       "     name   age gender        job  height\n",
       "0   alice  19.0      F    student   165.0\n",
       "1    john  26.0      M    student   180.0\n",
       "2    eric  22.0      M    student   175.0\n",
       "3    paul  58.0      F    manager     NaN\n",
       "4   peter  33.0      M   engineer     NaN\n",
       "5   julie  44.0      F  scientist   171.0\n",
       "6  michel   NaN    NaN        NaN   185.0"
      ]
     },
     "execution_count": 37,
     "metadata": {},
     "output_type": "execute_result"
    }
   ],
   "source": [
    "# outer join:  all records from both tables\n",
    "merge_outer = pd.merge(users, user4, on = \"name\", how = \"outer\")\n",
    "merge_outer"
   ]
  },
  {
   "cell_type": "code",
   "execution_count": 38,
   "id": "b48745c2-8dc5-45f7-a2eb-349ee0b96aae",
   "metadata": {},
   "outputs": [
    {
     "data": {
      "text/html": [
       "<div>\n",
       "<style scoped>\n",
       "    .dataframe tbody tr th:only-of-type {\n",
       "        vertical-align: middle;\n",
       "    }\n",
       "\n",
       "    .dataframe tbody tr th {\n",
       "        vertical-align: top;\n",
       "    }\n",
       "\n",
       "    .dataframe thead th {\n",
       "        text-align: right;\n",
       "    }\n",
       "</style>\n",
       "<table border=\"1\" class=\"dataframe\">\n",
       "  <thead>\n",
       "    <tr style=\"text-align: right;\">\n",
       "      <th></th>\n",
       "      <th>name</th>\n",
       "      <th>age</th>\n",
       "      <th>gender</th>\n",
       "      <th>job</th>\n",
       "      <th>height</th>\n",
       "    </tr>\n",
       "  </thead>\n",
       "  <tbody>\n",
       "    <tr>\n",
       "      <th>0</th>\n",
       "      <td>alice</td>\n",
       "      <td>19</td>\n",
       "      <td>F</td>\n",
       "      <td>student</td>\n",
       "      <td>165.0</td>\n",
       "    </tr>\n",
       "    <tr>\n",
       "      <th>1</th>\n",
       "      <td>john</td>\n",
       "      <td>26</td>\n",
       "      <td>M</td>\n",
       "      <td>student</td>\n",
       "      <td>180.0</td>\n",
       "    </tr>\n",
       "    <tr>\n",
       "      <th>2</th>\n",
       "      <td>eric</td>\n",
       "      <td>22</td>\n",
       "      <td>M</td>\n",
       "      <td>student</td>\n",
       "      <td>175.0</td>\n",
       "    </tr>\n",
       "    <tr>\n",
       "      <th>3</th>\n",
       "      <td>paul</td>\n",
       "      <td>58</td>\n",
       "      <td>F</td>\n",
       "      <td>manager</td>\n",
       "      <td>NaN</td>\n",
       "    </tr>\n",
       "    <tr>\n",
       "      <th>4</th>\n",
       "      <td>peter</td>\n",
       "      <td>33</td>\n",
       "      <td>M</td>\n",
       "      <td>engineer</td>\n",
       "      <td>NaN</td>\n",
       "    </tr>\n",
       "    <tr>\n",
       "      <th>5</th>\n",
       "      <td>julie</td>\n",
       "      <td>44</td>\n",
       "      <td>F</td>\n",
       "      <td>scientist</td>\n",
       "      <td>171.0</td>\n",
       "    </tr>\n",
       "  </tbody>\n",
       "</table>\n",
       "</div>"
      ],
      "text/plain": [
       "    name  age gender        job  height\n",
       "0  alice   19      F    student   165.0\n",
       "1   john   26      M    student   180.0\n",
       "2   eric   22      M    student   175.0\n",
       "3   paul   58      F    manager     NaN\n",
       "4  peter   33      M   engineer     NaN\n",
       "5  julie   44      F  scientist   171.0"
      ]
     },
     "execution_count": 38,
     "metadata": {},
     "output_type": "execute_result"
    }
   ],
   "source": [
    "# left join:  all records from the left table and matching from the right table\n",
    "merge_left = pd.merge(users, user4, on = \"name\", how = \"left\")\n",
    "merge_left"
   ]
  },
  {
   "cell_type": "code",
   "execution_count": 39,
   "id": "69986dc0-87c7-428d-b281-6acb3f37f398",
   "metadata": {},
   "outputs": [
    {
     "data": {
      "text/html": [
       "<div>\n",
       "<style scoped>\n",
       "    .dataframe tbody tr th:only-of-type {\n",
       "        vertical-align: middle;\n",
       "    }\n",
       "\n",
       "    .dataframe tbody tr th {\n",
       "        vertical-align: top;\n",
       "    }\n",
       "\n",
       "    .dataframe thead th {\n",
       "        text-align: right;\n",
       "    }\n",
       "</style>\n",
       "<table border=\"1\" class=\"dataframe\">\n",
       "  <thead>\n",
       "    <tr style=\"text-align: right;\">\n",
       "      <th></th>\n",
       "      <th>name</th>\n",
       "      <th>age</th>\n",
       "      <th>gender</th>\n",
       "      <th>job</th>\n",
       "      <th>height</th>\n",
       "    </tr>\n",
       "  </thead>\n",
       "  <tbody>\n",
       "    <tr>\n",
       "      <th>0</th>\n",
       "      <td>alice</td>\n",
       "      <td>19.0</td>\n",
       "      <td>F</td>\n",
       "      <td>student</td>\n",
       "      <td>165</td>\n",
       "    </tr>\n",
       "    <tr>\n",
       "      <th>1</th>\n",
       "      <td>john</td>\n",
       "      <td>26.0</td>\n",
       "      <td>M</td>\n",
       "      <td>student</td>\n",
       "      <td>180</td>\n",
       "    </tr>\n",
       "    <tr>\n",
       "      <th>2</th>\n",
       "      <td>eric</td>\n",
       "      <td>22.0</td>\n",
       "      <td>M</td>\n",
       "      <td>student</td>\n",
       "      <td>175</td>\n",
       "    </tr>\n",
       "    <tr>\n",
       "      <th>3</th>\n",
       "      <td>julie</td>\n",
       "      <td>44.0</td>\n",
       "      <td>F</td>\n",
       "      <td>scientist</td>\n",
       "      <td>171</td>\n",
       "    </tr>\n",
       "    <tr>\n",
       "      <th>4</th>\n",
       "      <td>michel</td>\n",
       "      <td>NaN</td>\n",
       "      <td>NaN</td>\n",
       "      <td>NaN</td>\n",
       "      <td>185</td>\n",
       "    </tr>\n",
       "  </tbody>\n",
       "</table>\n",
       "</div>"
      ],
      "text/plain": [
       "     name   age gender        job  height\n",
       "0   alice  19.0      F    student     165\n",
       "1    john  26.0      M    student     180\n",
       "2    eric  22.0      M    student     175\n",
       "3   julie  44.0      F  scientist     171\n",
       "4  michel   NaN    NaN        NaN     185"
      ]
     },
     "execution_count": 39,
     "metadata": {},
     "output_type": "execute_result"
    }
   ],
   "source": [
    "# right join:  all records from the right table and matching from the left table\n",
    "merge_right = pd.merge(users, user4, on = \"name\", how = \"right\")\n",
    "merge_right"
   ]
  },
  {
   "cell_type": "markdown",
   "id": "2061285e-4b1b-4eb5-be43-9ee93ba6931a",
   "metadata": {},
   "source": [
    "### Summarizing"
   ]
  },
  {
   "cell_type": "code",
   "execution_count": 40,
   "id": "0d5a4784-811f-4e09-b2db-6fa0d23926d7",
   "metadata": {},
   "outputs": [
    {
     "data": {
      "text/html": [
       "<div>\n",
       "<style scoped>\n",
       "    .dataframe tbody tr th:only-of-type {\n",
       "        vertical-align: middle;\n",
       "    }\n",
       "\n",
       "    .dataframe tbody tr th {\n",
       "        vertical-align: top;\n",
       "    }\n",
       "\n",
       "    .dataframe thead th {\n",
       "        text-align: right;\n",
       "    }\n",
       "</style>\n",
       "<table border=\"1\" class=\"dataframe\">\n",
       "  <thead>\n",
       "    <tr style=\"text-align: right;\">\n",
       "      <th></th>\n",
       "      <th>name</th>\n",
       "      <th>age</th>\n",
       "      <th>gender</th>\n",
       "      <th>job</th>\n",
       "    </tr>\n",
       "  </thead>\n",
       "  <tbody>\n",
       "    <tr>\n",
       "      <th>0</th>\n",
       "      <td>alice</td>\n",
       "      <td>19</td>\n",
       "      <td>F</td>\n",
       "      <td>student</td>\n",
       "    </tr>\n",
       "    <tr>\n",
       "      <th>1</th>\n",
       "      <td>john</td>\n",
       "      <td>26</td>\n",
       "      <td>M</td>\n",
       "      <td>student</td>\n",
       "    </tr>\n",
       "    <tr>\n",
       "      <th>2</th>\n",
       "      <td>eric</td>\n",
       "      <td>22</td>\n",
       "      <td>M</td>\n",
       "      <td>student</td>\n",
       "    </tr>\n",
       "    <tr>\n",
       "      <th>3</th>\n",
       "      <td>paul</td>\n",
       "      <td>58</td>\n",
       "      <td>F</td>\n",
       "      <td>manager</td>\n",
       "    </tr>\n",
       "    <tr>\n",
       "      <th>4</th>\n",
       "      <td>peter</td>\n",
       "      <td>33</td>\n",
       "      <td>M</td>\n",
       "      <td>engineer</td>\n",
       "    </tr>\n",
       "    <tr>\n",
       "      <th>5</th>\n",
       "      <td>julie</td>\n",
       "      <td>44</td>\n",
       "      <td>F</td>\n",
       "      <td>scientist</td>\n",
       "    </tr>\n",
       "  </tbody>\n",
       "</table>\n",
       "</div>"
      ],
      "text/plain": [
       "    name  age gender        job\n",
       "0  alice   19      F    student\n",
       "1   john   26      M    student\n",
       "2   eric   22      M    student\n",
       "3   paul   58      F    manager\n",
       "4  peter   33      M   engineer\n",
       "5  julie   44      F  scientist"
      ]
     },
     "execution_count": 40,
     "metadata": {},
     "output_type": "execute_result"
    }
   ],
   "source": [
    "users"
   ]
  },
  {
   "cell_type": "code",
   "execution_count": 41,
   "id": "8cf717d2-de06-4d84-a0f0-45cede04ab5c",
   "metadata": {},
   "outputs": [
    {
     "name": "stdout",
     "output_type": "stream",
     "text": [
      "<class 'pandas.core.frame.DataFrame'>\n"
     ]
    },
    {
     "data": {
      "text/html": [
       "<div>\n",
       "<style scoped>\n",
       "    .dataframe tbody tr th:only-of-type {\n",
       "        vertical-align: middle;\n",
       "    }\n",
       "\n",
       "    .dataframe tbody tr th {\n",
       "        vertical-align: top;\n",
       "    }\n",
       "\n",
       "    .dataframe thead th {\n",
       "        text-align: right;\n",
       "    }\n",
       "</style>\n",
       "<table border=\"1\" class=\"dataframe\">\n",
       "  <thead>\n",
       "    <tr style=\"text-align: right;\">\n",
       "      <th></th>\n",
       "      <th>name</th>\n",
       "      <th>age</th>\n",
       "      <th>gender</th>\n",
       "      <th>job</th>\n",
       "    </tr>\n",
       "  </thead>\n",
       "  <tbody>\n",
       "    <tr>\n",
       "      <th>0</th>\n",
       "      <td>alice</td>\n",
       "      <td>19</td>\n",
       "      <td>F</td>\n",
       "      <td>student</td>\n",
       "    </tr>\n",
       "    <tr>\n",
       "      <th>1</th>\n",
       "      <td>john</td>\n",
       "      <td>26</td>\n",
       "      <td>M</td>\n",
       "      <td>student</td>\n",
       "    </tr>\n",
       "    <tr>\n",
       "      <th>2</th>\n",
       "      <td>eric</td>\n",
       "      <td>22</td>\n",
       "      <td>M</td>\n",
       "      <td>student</td>\n",
       "    </tr>\n",
       "    <tr>\n",
       "      <th>3</th>\n",
       "      <td>paul</td>\n",
       "      <td>58</td>\n",
       "      <td>F</td>\n",
       "      <td>manager</td>\n",
       "    </tr>\n",
       "    <tr>\n",
       "      <th>4</th>\n",
       "      <td>peter</td>\n",
       "      <td>33</td>\n",
       "      <td>M</td>\n",
       "      <td>engineer</td>\n",
       "    </tr>\n",
       "  </tbody>\n",
       "</table>\n",
       "</div>"
      ],
      "text/plain": [
       "    name  age gender       job\n",
       "0  alice   19      F   student\n",
       "1   john   26      M   student\n",
       "2   eric   22      M   student\n",
       "3   paul   58      F   manager\n",
       "4  peter   33      M  engineer"
      ]
     },
     "execution_count": 41,
     "metadata": {},
     "output_type": "execute_result"
    }
   ],
   "source": [
    "print (type(users))\n",
    "users.head()"
   ]
  },
  {
   "cell_type": "code",
   "execution_count": 42,
   "id": "ec592db9-dbbd-4050-b859-ce93a6977d41",
   "metadata": {},
   "outputs": [
    {
     "data": {
      "text/html": [
       "<div>\n",
       "<style scoped>\n",
       "    .dataframe tbody tr th:only-of-type {\n",
       "        vertical-align: middle;\n",
       "    }\n",
       "\n",
       "    .dataframe tbody tr th {\n",
       "        vertical-align: top;\n",
       "    }\n",
       "\n",
       "    .dataframe thead th {\n",
       "        text-align: right;\n",
       "    }\n",
       "</style>\n",
       "<table border=\"1\" class=\"dataframe\">\n",
       "  <thead>\n",
       "    <tr style=\"text-align: right;\">\n",
       "      <th></th>\n",
       "      <th>name</th>\n",
       "      <th>age</th>\n",
       "      <th>gender</th>\n",
       "      <th>job</th>\n",
       "    </tr>\n",
       "  </thead>\n",
       "  <tbody>\n",
       "    <tr>\n",
       "      <th>0</th>\n",
       "      <td>alice</td>\n",
       "      <td>19</td>\n",
       "      <td>F</td>\n",
       "      <td>student</td>\n",
       "    </tr>\n",
       "    <tr>\n",
       "      <th>1</th>\n",
       "      <td>john</td>\n",
       "      <td>26</td>\n",
       "      <td>M</td>\n",
       "      <td>student</td>\n",
       "    </tr>\n",
       "    <tr>\n",
       "      <th>2</th>\n",
       "      <td>eric</td>\n",
       "      <td>22</td>\n",
       "      <td>M</td>\n",
       "      <td>student</td>\n",
       "    </tr>\n",
       "  </tbody>\n",
       "</table>\n",
       "</div>"
      ],
      "text/plain": [
       "    name  age gender      job\n",
       "0  alice   19      F  student\n",
       "1   john   26      M  student\n",
       "2   eric   22      M  student"
      ]
     },
     "execution_count": 42,
     "metadata": {},
     "output_type": "execute_result"
    }
   ],
   "source": [
    "users.head(3)"
   ]
  },
  {
   "cell_type": "code",
   "execution_count": 43,
   "id": "8d4d4285-abaf-4561-b7b1-38086c360467",
   "metadata": {},
   "outputs": [
    {
     "data": {
      "text/html": [
       "<div>\n",
       "<style scoped>\n",
       "    .dataframe tbody tr th:only-of-type {\n",
       "        vertical-align: middle;\n",
       "    }\n",
       "\n",
       "    .dataframe tbody tr th {\n",
       "        vertical-align: top;\n",
       "    }\n",
       "\n",
       "    .dataframe thead th {\n",
       "        text-align: right;\n",
       "    }\n",
       "</style>\n",
       "<table border=\"1\" class=\"dataframe\">\n",
       "  <thead>\n",
       "    <tr style=\"text-align: right;\">\n",
       "      <th></th>\n",
       "      <th>name</th>\n",
       "      <th>age</th>\n",
       "      <th>gender</th>\n",
       "      <th>job</th>\n",
       "    </tr>\n",
       "  </thead>\n",
       "  <tbody>\n",
       "    <tr>\n",
       "      <th>1</th>\n",
       "      <td>john</td>\n",
       "      <td>26</td>\n",
       "      <td>M</td>\n",
       "      <td>student</td>\n",
       "    </tr>\n",
       "    <tr>\n",
       "      <th>2</th>\n",
       "      <td>eric</td>\n",
       "      <td>22</td>\n",
       "      <td>M</td>\n",
       "      <td>student</td>\n",
       "    </tr>\n",
       "    <tr>\n",
       "      <th>3</th>\n",
       "      <td>paul</td>\n",
       "      <td>58</td>\n",
       "      <td>F</td>\n",
       "      <td>manager</td>\n",
       "    </tr>\n",
       "    <tr>\n",
       "      <th>4</th>\n",
       "      <td>peter</td>\n",
       "      <td>33</td>\n",
       "      <td>M</td>\n",
       "      <td>engineer</td>\n",
       "    </tr>\n",
       "    <tr>\n",
       "      <th>5</th>\n",
       "      <td>julie</td>\n",
       "      <td>44</td>\n",
       "      <td>F</td>\n",
       "      <td>scientist</td>\n",
       "    </tr>\n",
       "  </tbody>\n",
       "</table>\n",
       "</div>"
      ],
      "text/plain": [
       "    name  age gender        job\n",
       "1   john   26      M    student\n",
       "2   eric   22      M    student\n",
       "3   paul   58      F    manager\n",
       "4  peter   33      M   engineer\n",
       "5  julie   44      F  scientist"
      ]
     },
     "execution_count": 43,
     "metadata": {},
     "output_type": "execute_result"
    }
   ],
   "source": [
    "users.tail()"
   ]
  },
  {
   "cell_type": "code",
   "execution_count": 44,
   "id": "39a29b88-db94-4b8a-847c-0c71c8b167c1",
   "metadata": {},
   "outputs": [
    {
     "data": {
      "text/html": [
       "<div>\n",
       "<style scoped>\n",
       "    .dataframe tbody tr th:only-of-type {\n",
       "        vertical-align: middle;\n",
       "    }\n",
       "\n",
       "    .dataframe tbody tr th {\n",
       "        vertical-align: top;\n",
       "    }\n",
       "\n",
       "    .dataframe thead th {\n",
       "        text-align: right;\n",
       "    }\n",
       "</style>\n",
       "<table border=\"1\" class=\"dataframe\">\n",
       "  <thead>\n",
       "    <tr style=\"text-align: right;\">\n",
       "      <th></th>\n",
       "      <th>name</th>\n",
       "      <th>age</th>\n",
       "      <th>gender</th>\n",
       "      <th>job</th>\n",
       "    </tr>\n",
       "  </thead>\n",
       "  <tbody>\n",
       "    <tr>\n",
       "      <th>3</th>\n",
       "      <td>paul</td>\n",
       "      <td>58</td>\n",
       "      <td>F</td>\n",
       "      <td>manager</td>\n",
       "    </tr>\n",
       "    <tr>\n",
       "      <th>4</th>\n",
       "      <td>peter</td>\n",
       "      <td>33</td>\n",
       "      <td>M</td>\n",
       "      <td>engineer</td>\n",
       "    </tr>\n",
       "    <tr>\n",
       "      <th>5</th>\n",
       "      <td>julie</td>\n",
       "      <td>44</td>\n",
       "      <td>F</td>\n",
       "      <td>scientist</td>\n",
       "    </tr>\n",
       "  </tbody>\n",
       "</table>\n",
       "</div>"
      ],
      "text/plain": [
       "    name  age gender        job\n",
       "3   paul   58      F    manager\n",
       "4  peter   33      M   engineer\n",
       "5  julie   44      F  scientist"
      ]
     },
     "execution_count": 44,
     "metadata": {},
     "output_type": "execute_result"
    }
   ],
   "source": [
    "users.tail(3)"
   ]
  },
  {
   "cell_type": "code",
   "execution_count": 45,
   "id": "7b40130e-5923-47df-9b0b-9028b6f72894",
   "metadata": {},
   "outputs": [
    {
     "data": {
      "text/html": [
       "<div>\n",
       "<style scoped>\n",
       "    .dataframe tbody tr th:only-of-type {\n",
       "        vertical-align: middle;\n",
       "    }\n",
       "\n",
       "    .dataframe tbody tr th {\n",
       "        vertical-align: top;\n",
       "    }\n",
       "\n",
       "    .dataframe thead th {\n",
       "        text-align: right;\n",
       "    }\n",
       "</style>\n",
       "<table border=\"1\" class=\"dataframe\">\n",
       "  <thead>\n",
       "    <tr style=\"text-align: right;\">\n",
       "      <th></th>\n",
       "      <th>name</th>\n",
       "      <th>age</th>\n",
       "      <th>gender</th>\n",
       "      <th>job</th>\n",
       "    </tr>\n",
       "  </thead>\n",
       "  <tbody>\n",
       "    <tr>\n",
       "      <th>1</th>\n",
       "      <td>john</td>\n",
       "      <td>26</td>\n",
       "      <td>M</td>\n",
       "      <td>student</td>\n",
       "    </tr>\n",
       "  </tbody>\n",
       "</table>\n",
       "</div>"
      ],
      "text/plain": [
       "   name  age gender      job\n",
       "1  john   26      M  student"
      ]
     },
     "execution_count": 45,
     "metadata": {},
     "output_type": "execute_result"
    }
   ],
   "source": [
    "users.sample()"
   ]
  },
  {
   "cell_type": "code",
   "execution_count": 46,
   "id": "d77e83eb-c6ec-4815-9a21-4f4b205dc2e8",
   "metadata": {},
   "outputs": [
    {
     "data": {
      "text/html": [
       "<div>\n",
       "<style scoped>\n",
       "    .dataframe tbody tr th:only-of-type {\n",
       "        vertical-align: middle;\n",
       "    }\n",
       "\n",
       "    .dataframe tbody tr th {\n",
       "        vertical-align: top;\n",
       "    }\n",
       "\n",
       "    .dataframe thead th {\n",
       "        text-align: right;\n",
       "    }\n",
       "</style>\n",
       "<table border=\"1\" class=\"dataframe\">\n",
       "  <thead>\n",
       "    <tr style=\"text-align: right;\">\n",
       "      <th></th>\n",
       "      <th>name</th>\n",
       "      <th>age</th>\n",
       "      <th>gender</th>\n",
       "      <th>job</th>\n",
       "    </tr>\n",
       "  </thead>\n",
       "  <tbody>\n",
       "    <tr>\n",
       "      <th>5</th>\n",
       "      <td>julie</td>\n",
       "      <td>44</td>\n",
       "      <td>F</td>\n",
       "      <td>scientist</td>\n",
       "    </tr>\n",
       "    <tr>\n",
       "      <th>2</th>\n",
       "      <td>eric</td>\n",
       "      <td>22</td>\n",
       "      <td>M</td>\n",
       "      <td>student</td>\n",
       "    </tr>\n",
       "    <tr>\n",
       "      <th>4</th>\n",
       "      <td>peter</td>\n",
       "      <td>33</td>\n",
       "      <td>M</td>\n",
       "      <td>engineer</td>\n",
       "    </tr>\n",
       "  </tbody>\n",
       "</table>\n",
       "</div>"
      ],
      "text/plain": [
       "    name  age gender        job\n",
       "5  julie   44      F  scientist\n",
       "2   eric   22      M    student\n",
       "4  peter   33      M   engineer"
      ]
     },
     "execution_count": 46,
     "metadata": {},
     "output_type": "execute_result"
    }
   ],
   "source": [
    "users.sample(3)"
   ]
  },
  {
   "cell_type": "code",
   "execution_count": 47,
   "id": "2c82f111-1cfe-4802-8e0a-285ee14e1be5",
   "metadata": {},
   "outputs": [
    {
     "data": {
      "text/html": [
       "<div>\n",
       "<style scoped>\n",
       "    .dataframe tbody tr th:only-of-type {\n",
       "        vertical-align: middle;\n",
       "    }\n",
       "\n",
       "    .dataframe tbody tr th {\n",
       "        vertical-align: top;\n",
       "    }\n",
       "\n",
       "    .dataframe thead th {\n",
       "        text-align: right;\n",
       "    }\n",
       "</style>\n",
       "<table border=\"1\" class=\"dataframe\">\n",
       "  <thead>\n",
       "    <tr style=\"text-align: right;\">\n",
       "      <th></th>\n",
       "      <th>age</th>\n",
       "    </tr>\n",
       "  </thead>\n",
       "  <tbody>\n",
       "    <tr>\n",
       "      <th>count</th>\n",
       "      <td>6.000000</td>\n",
       "    </tr>\n",
       "    <tr>\n",
       "      <th>mean</th>\n",
       "      <td>33.666667</td>\n",
       "    </tr>\n",
       "    <tr>\n",
       "      <th>std</th>\n",
       "      <td>14.895189</td>\n",
       "    </tr>\n",
       "    <tr>\n",
       "      <th>min</th>\n",
       "      <td>19.000000</td>\n",
       "    </tr>\n",
       "    <tr>\n",
       "      <th>25%</th>\n",
       "      <td>23.000000</td>\n",
       "    </tr>\n",
       "    <tr>\n",
       "      <th>50%</th>\n",
       "      <td>29.500000</td>\n",
       "    </tr>\n",
       "    <tr>\n",
       "      <th>75%</th>\n",
       "      <td>41.250000</td>\n",
       "    </tr>\n",
       "    <tr>\n",
       "      <th>max</th>\n",
       "      <td>58.000000</td>\n",
       "    </tr>\n",
       "  </tbody>\n",
       "</table>\n",
       "</div>"
      ],
      "text/plain": [
       "             age\n",
       "count   6.000000\n",
       "mean   33.666667\n",
       "std    14.895189\n",
       "min    19.000000\n",
       "25%    23.000000\n",
       "50%    29.500000\n",
       "75%    41.250000\n",
       "max    58.000000"
      ]
     },
     "execution_count": 47,
     "metadata": {},
     "output_type": "execute_result"
    }
   ],
   "source": [
    "users.describe()"
   ]
  },
  {
   "cell_type": "code",
   "execution_count": 48,
   "id": "a83a00fe-5f74-4739-9910-d63b5910e8a1",
   "metadata": {},
   "outputs": [
    {
     "data": {
      "text/html": [
       "<div>\n",
       "<style scoped>\n",
       "    .dataframe tbody tr th:only-of-type {\n",
       "        vertical-align: middle;\n",
       "    }\n",
       "\n",
       "    .dataframe tbody tr th {\n",
       "        vertical-align: top;\n",
       "    }\n",
       "\n",
       "    .dataframe thead th {\n",
       "        text-align: right;\n",
       "    }\n",
       "</style>\n",
       "<table border=\"1\" class=\"dataframe\">\n",
       "  <thead>\n",
       "    <tr style=\"text-align: right;\">\n",
       "      <th></th>\n",
       "      <th>name</th>\n",
       "      <th>age</th>\n",
       "      <th>gender</th>\n",
       "      <th>job</th>\n",
       "    </tr>\n",
       "  </thead>\n",
       "  <tbody>\n",
       "    <tr>\n",
       "      <th>count</th>\n",
       "      <td>6</td>\n",
       "      <td>6.000000</td>\n",
       "      <td>6</td>\n",
       "      <td>6</td>\n",
       "    </tr>\n",
       "    <tr>\n",
       "      <th>unique</th>\n",
       "      <td>6</td>\n",
       "      <td>NaN</td>\n",
       "      <td>2</td>\n",
       "      <td>4</td>\n",
       "    </tr>\n",
       "    <tr>\n",
       "      <th>top</th>\n",
       "      <td>john</td>\n",
       "      <td>NaN</td>\n",
       "      <td>M</td>\n",
       "      <td>student</td>\n",
       "    </tr>\n",
       "    <tr>\n",
       "      <th>freq</th>\n",
       "      <td>1</td>\n",
       "      <td>NaN</td>\n",
       "      <td>3</td>\n",
       "      <td>3</td>\n",
       "    </tr>\n",
       "    <tr>\n",
       "      <th>mean</th>\n",
       "      <td>NaN</td>\n",
       "      <td>33.666667</td>\n",
       "      <td>NaN</td>\n",
       "      <td>NaN</td>\n",
       "    </tr>\n",
       "    <tr>\n",
       "      <th>std</th>\n",
       "      <td>NaN</td>\n",
       "      <td>14.895189</td>\n",
       "      <td>NaN</td>\n",
       "      <td>NaN</td>\n",
       "    </tr>\n",
       "    <tr>\n",
       "      <th>min</th>\n",
       "      <td>NaN</td>\n",
       "      <td>19.000000</td>\n",
       "      <td>NaN</td>\n",
       "      <td>NaN</td>\n",
       "    </tr>\n",
       "    <tr>\n",
       "      <th>25%</th>\n",
       "      <td>NaN</td>\n",
       "      <td>23.000000</td>\n",
       "      <td>NaN</td>\n",
       "      <td>NaN</td>\n",
       "    </tr>\n",
       "    <tr>\n",
       "      <th>50%</th>\n",
       "      <td>NaN</td>\n",
       "      <td>29.500000</td>\n",
       "      <td>NaN</td>\n",
       "      <td>NaN</td>\n",
       "    </tr>\n",
       "    <tr>\n",
       "      <th>75%</th>\n",
       "      <td>NaN</td>\n",
       "      <td>41.250000</td>\n",
       "      <td>NaN</td>\n",
       "      <td>NaN</td>\n",
       "    </tr>\n",
       "    <tr>\n",
       "      <th>max</th>\n",
       "      <td>NaN</td>\n",
       "      <td>58.000000</td>\n",
       "      <td>NaN</td>\n",
       "      <td>NaN</td>\n",
       "    </tr>\n",
       "  </tbody>\n",
       "</table>\n",
       "</div>"
      ],
      "text/plain": [
       "        name        age gender      job\n",
       "count      6   6.000000      6        6\n",
       "unique     6        NaN      2        4\n",
       "top     john        NaN      M  student\n",
       "freq       1        NaN      3        3\n",
       "mean     NaN  33.666667    NaN      NaN\n",
       "std      NaN  14.895189    NaN      NaN\n",
       "min      NaN  19.000000    NaN      NaN\n",
       "25%      NaN  23.000000    NaN      NaN\n",
       "50%      NaN  29.500000    NaN      NaN\n",
       "75%      NaN  41.250000    NaN      NaN\n",
       "max      NaN  58.000000    NaN      NaN"
      ]
     },
     "execution_count": 48,
     "metadata": {},
     "output_type": "execute_result"
    }
   ],
   "source": [
    "users.describe(include = 'all')"
   ]
  },
  {
   "cell_type": "code",
   "execution_count": 49,
   "id": "85c9594a-1def-4f8f-97c3-23eb6f25de31",
   "metadata": {},
   "outputs": [
    {
     "data": {
      "text/html": [
       "<div>\n",
       "<style scoped>\n",
       "    .dataframe tbody tr th:only-of-type {\n",
       "        vertical-align: middle;\n",
       "    }\n",
       "\n",
       "    .dataframe tbody tr th {\n",
       "        vertical-align: top;\n",
       "    }\n",
       "\n",
       "    .dataframe thead th {\n",
       "        text-align: right;\n",
       "    }\n",
       "</style>\n",
       "<table border=\"1\" class=\"dataframe\">\n",
       "  <thead>\n",
       "    <tr style=\"text-align: right;\">\n",
       "      <th></th>\n",
       "      <th>name</th>\n",
       "      <th>gender</th>\n",
       "      <th>job</th>\n",
       "    </tr>\n",
       "  </thead>\n",
       "  <tbody>\n",
       "    <tr>\n",
       "      <th>count</th>\n",
       "      <td>6</td>\n",
       "      <td>6</td>\n",
       "      <td>6</td>\n",
       "    </tr>\n",
       "    <tr>\n",
       "      <th>unique</th>\n",
       "      <td>6</td>\n",
       "      <td>2</td>\n",
       "      <td>4</td>\n",
       "    </tr>\n",
       "    <tr>\n",
       "      <th>top</th>\n",
       "      <td>john</td>\n",
       "      <td>M</td>\n",
       "      <td>student</td>\n",
       "    </tr>\n",
       "    <tr>\n",
       "      <th>freq</th>\n",
       "      <td>1</td>\n",
       "      <td>3</td>\n",
       "      <td>3</td>\n",
       "    </tr>\n",
       "  </tbody>\n",
       "</table>\n",
       "</div>"
      ],
      "text/plain": [
       "        name gender      job\n",
       "count      6      6        6\n",
       "unique     6      2        4\n",
       "top     john      M  student\n",
       "freq       1      3        3"
      ]
     },
     "execution_count": 49,
     "metadata": {},
     "output_type": "execute_result"
    }
   ],
   "source": [
    "users.describe(include = ['object'])"
   ]
  },
  {
   "cell_type": "code",
   "execution_count": 50,
   "id": "454a24df-086e-48f3-b569-ce0a1a1877ad",
   "metadata": {},
   "outputs": [
    {
     "name": "stdout",
     "output_type": "stream",
     "text": [
      "<class 'pandas.core.frame.DataFrame'>\n",
      "RangeIndex: 6 entries, 0 to 5\n",
      "Data columns (total 4 columns):\n",
      " #   Column  Non-Null Count  Dtype \n",
      "---  ------  --------------  ----- \n",
      " 0   name    6 non-null      object\n",
      " 1   age     6 non-null      int64 \n",
      " 2   gender  6 non-null      object\n",
      " 3   job     6 non-null      object\n",
      "dtypes: int64(1), object(3)\n",
      "memory usage: 320.0+ bytes\n"
     ]
    }
   ],
   "source": [
    "users.info()"
   ]
  },
  {
   "cell_type": "code",
   "execution_count": 63,
   "id": "ba0e6bd3-d333-4ba6-ad85-ca9d386057cd",
   "metadata": {},
   "outputs": [
    {
     "name": "stdout",
     "output_type": "stream",
     "text": [
      "(6, 4) 6 4\n",
      "6\n",
      "2\n",
      "24\n"
     ]
    }
   ],
   "source": [
    "print (df.shape, df.shape[0], df.shape[1])\n",
    "print (len(df))\n",
    "print (df.ndim)\n",
    "print (df.size)"
   ]
  },
  {
   "cell_type": "markdown",
   "id": "5eb887f5-5a28-43ff-9d81-e8fdfe86eb26",
   "metadata": {},
   "source": [
    "### Columns Selection"
   ]
  },
  {
   "cell_type": "code",
   "execution_count": 53,
   "id": "2003c339-d50b-4d2a-b271-cf6ef2028730",
   "metadata": {},
   "outputs": [
    {
     "name": "stdout",
     "output_type": "stream",
     "text": [
      "0    F\n",
      "1    M\n",
      "2    M\n",
      "3    F\n",
      "4    M\n",
      "5    F\n",
      "Name: gender, dtype: object\n",
      "<class 'pandas.core.series.Series'>\n"
     ]
    }
   ],
   "source": [
    "print (users['gender'])\n",
    "print (type(users['gender']))"
   ]
  },
  {
   "cell_type": "code",
   "execution_count": 55,
   "id": "8aeed9d2-d0d8-4ebd-b7ba-9f25c2050ec6",
   "metadata": {},
   "outputs": [
    {
     "name": "stdout",
     "output_type": "stream",
     "text": [
      "<class 'pandas.core.frame.DataFrame'>\n"
     ]
    },
    {
     "data": {
      "text/html": [
       "<div>\n",
       "<style scoped>\n",
       "    .dataframe tbody tr th:only-of-type {\n",
       "        vertical-align: middle;\n",
       "    }\n",
       "\n",
       "    .dataframe tbody tr th {\n",
       "        vertical-align: top;\n",
       "    }\n",
       "\n",
       "    .dataframe thead th {\n",
       "        text-align: right;\n",
       "    }\n",
       "</style>\n",
       "<table border=\"1\" class=\"dataframe\">\n",
       "  <thead>\n",
       "    <tr style=\"text-align: right;\">\n",
       "      <th></th>\n",
       "      <th>gender</th>\n",
       "      <th>age</th>\n",
       "      <th>name</th>\n",
       "    </tr>\n",
       "  </thead>\n",
       "  <tbody>\n",
       "    <tr>\n",
       "      <th>0</th>\n",
       "      <td>F</td>\n",
       "      <td>19</td>\n",
       "      <td>alice</td>\n",
       "    </tr>\n",
       "    <tr>\n",
       "      <th>1</th>\n",
       "      <td>M</td>\n",
       "      <td>26</td>\n",
       "      <td>john</td>\n",
       "    </tr>\n",
       "    <tr>\n",
       "      <th>2</th>\n",
       "      <td>M</td>\n",
       "      <td>22</td>\n",
       "      <td>eric</td>\n",
       "    </tr>\n",
       "    <tr>\n",
       "      <th>3</th>\n",
       "      <td>F</td>\n",
       "      <td>58</td>\n",
       "      <td>paul</td>\n",
       "    </tr>\n",
       "    <tr>\n",
       "      <th>4</th>\n",
       "      <td>M</td>\n",
       "      <td>33</td>\n",
       "      <td>peter</td>\n",
       "    </tr>\n",
       "    <tr>\n",
       "      <th>5</th>\n",
       "      <td>F</td>\n",
       "      <td>44</td>\n",
       "      <td>julie</td>\n",
       "    </tr>\n",
       "  </tbody>\n",
       "</table>\n",
       "</div>"
      ],
      "text/plain": [
       "  gender  age   name\n",
       "0      F   19  alice\n",
       "1      M   26   john\n",
       "2      M   22   eric\n",
       "3      F   58   paul\n",
       "4      M   33  peter\n",
       "5      F   44  julie"
      ]
     },
     "execution_count": 55,
     "metadata": {},
     "output_type": "execute_result"
    }
   ],
   "source": [
    "print (type(users[['gender', 'age', 'name']]))\n",
    "users[['gender', 'age', 'name']]"
   ]
  },
  {
   "cell_type": "code",
   "execution_count": 57,
   "id": "4f02ee96-fba3-4808-8cbf-5763f0b14c2e",
   "metadata": {},
   "outputs": [
    {
     "name": "stdout",
     "output_type": "stream",
     "text": [
      "<class 'pandas.core.frame.DataFrame'>\n"
     ]
    },
    {
     "data": {
      "text/html": [
       "<div>\n",
       "<style scoped>\n",
       "    .dataframe tbody tr th:only-of-type {\n",
       "        vertical-align: middle;\n",
       "    }\n",
       "\n",
       "    .dataframe tbody tr th {\n",
       "        vertical-align: top;\n",
       "    }\n",
       "\n",
       "    .dataframe thead th {\n",
       "        text-align: right;\n",
       "    }\n",
       "</style>\n",
       "<table border=\"1\" class=\"dataframe\">\n",
       "  <thead>\n",
       "    <tr style=\"text-align: right;\">\n",
       "      <th></th>\n",
       "      <th>gender</th>\n",
       "      <th>age</th>\n",
       "      <th>name</th>\n",
       "    </tr>\n",
       "  </thead>\n",
       "  <tbody>\n",
       "    <tr>\n",
       "      <th>0</th>\n",
       "      <td>F</td>\n",
       "      <td>19</td>\n",
       "      <td>alice</td>\n",
       "    </tr>\n",
       "    <tr>\n",
       "      <th>1</th>\n",
       "      <td>M</td>\n",
       "      <td>26</td>\n",
       "      <td>john</td>\n",
       "    </tr>\n",
       "    <tr>\n",
       "      <th>2</th>\n",
       "      <td>M</td>\n",
       "      <td>22</td>\n",
       "      <td>eric</td>\n",
       "    </tr>\n",
       "    <tr>\n",
       "      <th>3</th>\n",
       "      <td>F</td>\n",
       "      <td>58</td>\n",
       "      <td>paul</td>\n",
       "    </tr>\n",
       "    <tr>\n",
       "      <th>4</th>\n",
       "      <td>M</td>\n",
       "      <td>33</td>\n",
       "      <td>peter</td>\n",
       "    </tr>\n",
       "    <tr>\n",
       "      <th>5</th>\n",
       "      <td>F</td>\n",
       "      <td>44</td>\n",
       "      <td>julie</td>\n",
       "    </tr>\n",
       "  </tbody>\n",
       "</table>\n",
       "</div>"
      ],
      "text/plain": [
       "  gender  age   name\n",
       "0      F   19  alice\n",
       "1      M   26   john\n",
       "2      M   22   eric\n",
       "3      F   58   paul\n",
       "4      M   33  peter\n",
       "5      F   44  julie"
      ]
     },
     "execution_count": 57,
     "metadata": {},
     "output_type": "execute_result"
    }
   ],
   "source": [
    "my_cols = ['gender', 'age', 'name']\n",
    "print (type(users[my_cols]))\n",
    "users[my_cols]"
   ]
  },
  {
   "cell_type": "markdown",
   "id": "1b4d3ee0-281d-42c4-b52c-9284a8c6442f",
   "metadata": {},
   "source": [
    "### Rows Selection"
   ]
  },
  {
   "cell_type": "code",
   "execution_count": 64,
   "id": "73c228c1-b07a-4e6e-9309-4d6aff540188",
   "metadata": {},
   "outputs": [
    {
     "data": {
      "text/html": [
       "<div>\n",
       "<style scoped>\n",
       "    .dataframe tbody tr th:only-of-type {\n",
       "        vertical-align: middle;\n",
       "    }\n",
       "\n",
       "    .dataframe tbody tr th {\n",
       "        vertical-align: top;\n",
       "    }\n",
       "\n",
       "    .dataframe thead th {\n",
       "        text-align: right;\n",
       "    }\n",
       "</style>\n",
       "<table border=\"1\" class=\"dataframe\">\n",
       "  <thead>\n",
       "    <tr style=\"text-align: right;\">\n",
       "      <th></th>\n",
       "      <th>name</th>\n",
       "      <th>age</th>\n",
       "      <th>gender</th>\n",
       "      <th>job</th>\n",
       "    </tr>\n",
       "  </thead>\n",
       "  <tbody>\n",
       "    <tr>\n",
       "      <th>0</th>\n",
       "      <td>alice</td>\n",
       "      <td>19</td>\n",
       "      <td>F</td>\n",
       "      <td>student</td>\n",
       "    </tr>\n",
       "    <tr>\n",
       "      <th>1</th>\n",
       "      <td>john</td>\n",
       "      <td>26</td>\n",
       "      <td>M</td>\n",
       "      <td>student</td>\n",
       "    </tr>\n",
       "    <tr>\n",
       "      <th>2</th>\n",
       "      <td>eric</td>\n",
       "      <td>22</td>\n",
       "      <td>M</td>\n",
       "      <td>student</td>\n",
       "    </tr>\n",
       "    <tr>\n",
       "      <th>3</th>\n",
       "      <td>paul</td>\n",
       "      <td>58</td>\n",
       "      <td>F</td>\n",
       "      <td>manager</td>\n",
       "    </tr>\n",
       "    <tr>\n",
       "      <th>4</th>\n",
       "      <td>peter</td>\n",
       "      <td>33</td>\n",
       "      <td>M</td>\n",
       "      <td>engineer</td>\n",
       "    </tr>\n",
       "    <tr>\n",
       "      <th>5</th>\n",
       "      <td>julie</td>\n",
       "      <td>44</td>\n",
       "      <td>F</td>\n",
       "      <td>scientist</td>\n",
       "    </tr>\n",
       "  </tbody>\n",
       "</table>\n",
       "</div>"
      ],
      "text/plain": [
       "    name  age gender        job\n",
       "0  alice   19      F    student\n",
       "1   john   26      M    student\n",
       "2   eric   22      M    student\n",
       "3   paul   58      F    manager\n",
       "4  peter   33      M   engineer\n",
       "5  julie   44      F  scientist"
      ]
     },
     "execution_count": 64,
     "metadata": {},
     "output_type": "execute_result"
    }
   ],
   "source": [
    "df = users.copy()\n",
    "df"
   ]
  },
  {
   "cell_type": "code",
   "execution_count": 67,
   "id": "a5261c7b-1160-42bb-99e4-1cdefb4e8f49",
   "metadata": {},
   "outputs": [
    {
     "name": "stdout",
     "output_type": "stream",
     "text": [
      "name        alice\n",
      "age            19\n",
      "gender          F\n",
      "job       student\n",
      "Name: 0, dtype: object\n",
      "\n",
      "name        alice\n",
      "age            19\n",
      "gender          F\n",
      "job       student\n",
      "Name: 0, dtype: object\n"
     ]
    }
   ],
   "source": [
    "print (df.iloc[0])\n",
    "print ()\n",
    "print (df.loc[0])"
   ]
  },
  {
   "cell_type": "code",
   "execution_count": 68,
   "id": "fb402847-8b28-4898-aaca-4c68c4a65370",
   "metadata": {},
   "outputs": [
    {
     "name": "stdout",
     "output_type": "stream",
     "text": [
      "name         paul\n",
      "age            58\n",
      "gender          F\n",
      "job       manager\n",
      "Name: 3, dtype: object\n",
      "\n",
      "name         paul\n",
      "age            58\n",
      "gender          F\n",
      "job       manager\n",
      "Name: 3, dtype: object\n"
     ]
    }
   ],
   "source": [
    "print (df.iloc[3])\n",
    "print ()\n",
    "print (df.loc[3])"
   ]
  },
  {
   "cell_type": "code",
   "execution_count": 69,
   "id": "a22ef738-ed5e-4f5a-b96f-c2e8aa18d6ec",
   "metadata": {},
   "outputs": [
    {
     "data": {
      "text/html": [
       "<div>\n",
       "<style scoped>\n",
       "    .dataframe tbody tr th:only-of-type {\n",
       "        vertical-align: middle;\n",
       "    }\n",
       "\n",
       "    .dataframe tbody tr th {\n",
       "        vertical-align: top;\n",
       "    }\n",
       "\n",
       "    .dataframe thead th {\n",
       "        text-align: right;\n",
       "    }\n",
       "</style>\n",
       "<table border=\"1\" class=\"dataframe\">\n",
       "  <thead>\n",
       "    <tr style=\"text-align: right;\">\n",
       "      <th></th>\n",
       "      <th>name</th>\n",
       "      <th>age</th>\n",
       "      <th>gender</th>\n",
       "      <th>job</th>\n",
       "    </tr>\n",
       "  </thead>\n",
       "  <tbody>\n",
       "    <tr>\n",
       "      <th>0</th>\n",
       "      <td>alice</td>\n",
       "      <td>19</td>\n",
       "      <td>F</td>\n",
       "      <td>student</td>\n",
       "    </tr>\n",
       "    <tr>\n",
       "      <th>1</th>\n",
       "      <td>john</td>\n",
       "      <td>26</td>\n",
       "      <td>M</td>\n",
       "      <td>student</td>\n",
       "    </tr>\n",
       "    <tr>\n",
       "      <th>2</th>\n",
       "      <td>eric</td>\n",
       "      <td>22</td>\n",
       "      <td>M</td>\n",
       "      <td>student</td>\n",
       "    </tr>\n",
       "    <tr>\n",
       "      <th>3</th>\n",
       "      <td>paul</td>\n",
       "      <td>58</td>\n",
       "      <td>F</td>\n",
       "      <td>manager</td>\n",
       "    </tr>\n",
       "    <tr>\n",
       "      <th>4</th>\n",
       "      <td>peter</td>\n",
       "      <td>33</td>\n",
       "      <td>M</td>\n",
       "      <td>engineer</td>\n",
       "    </tr>\n",
       "    <tr>\n",
       "      <th>5</th>\n",
       "      <td>julie</td>\n",
       "      <td>44</td>\n",
       "      <td>F</td>\n",
       "      <td>scientist</td>\n",
       "    </tr>\n",
       "  </tbody>\n",
       "</table>\n",
       "</div>"
      ],
      "text/plain": [
       "    name  age gender        job\n",
       "0  alice   19      F    student\n",
       "1   john   26      M    student\n",
       "2   eric   22      M    student\n",
       "3   paul   58      F    manager\n",
       "4  peter   33      M   engineer\n",
       "5  julie   44      F  scientist"
      ]
     },
     "execution_count": 69,
     "metadata": {},
     "output_type": "execute_result"
    }
   ],
   "source": [
    "df"
   ]
  },
  {
   "cell_type": "code",
   "execution_count": 81,
   "id": "ebdbfd19-9889-4319-a8b3-1c85d10bf10b",
   "metadata": {},
   "outputs": [
    {
     "name": "stdout",
     "output_type": "stream",
     "text": [
      "engineer engineer engineer engineer\n",
      "engineer engineer engineer engineer\n"
     ]
    }
   ],
   "source": [
    "print (df.iloc[4][3], df.iloc[4]['job'], df.loc[4][3], df.loc[4]['job'])\n",
    "print (df.iloc[4, 3], df.iloc[4]['job'], df.loc[4][3], df.loc[4, 'job'])"
   ]
  },
  {
   "cell_type": "code",
   "execution_count": 91,
   "id": "fe0cd6ad-dc55-4788-8315-9a02dc742b4c",
   "metadata": {},
   "outputs": [
    {
     "name": "stderr",
     "output_type": "stream",
     "text": [
      "C:\\Users\\Arnab\\anaconda3\\lib\\site-packages\\pandas\\core\\generic.py:5494: SettingWithCopyWarning: \n",
      "A value is trying to be set on a copy of a slice from a DataFrame\n",
      "\n",
      "See the caveats in the documentation: https://pandas.pydata.org/pandas-docs/stable/user_guide/indexing.html#returning-a-view-versus-a-copy\n",
      "  self[name] = value\n"
     ]
    },
    {
     "data": {
      "text/html": [
       "<div>\n",
       "<style scoped>\n",
       "    .dataframe tbody tr th:only-of-type {\n",
       "        vertical-align: middle;\n",
       "    }\n",
       "\n",
       "    .dataframe tbody tr th {\n",
       "        vertical-align: top;\n",
       "    }\n",
       "\n",
       "    .dataframe thead th {\n",
       "        text-align: right;\n",
       "    }\n",
       "</style>\n",
       "<table border=\"1\" class=\"dataframe\">\n",
       "  <thead>\n",
       "    <tr style=\"text-align: right;\">\n",
       "      <th></th>\n",
       "      <th>name</th>\n",
       "      <th>age</th>\n",
       "      <th>gender</th>\n",
       "      <th>job</th>\n",
       "    </tr>\n",
       "  </thead>\n",
       "  <tbody>\n",
       "    <tr>\n",
       "      <th>0</th>\n",
       "      <td>alice</td>\n",
       "      <td>119</td>\n",
       "      <td>F</td>\n",
       "      <td>student</td>\n",
       "    </tr>\n",
       "    <tr>\n",
       "      <th>1</th>\n",
       "      <td>john</td>\n",
       "      <td>126</td>\n",
       "      <td>M</td>\n",
       "      <td>student</td>\n",
       "    </tr>\n",
       "    <tr>\n",
       "      <th>2</th>\n",
       "      <td>eric</td>\n",
       "      <td>122</td>\n",
       "      <td>M</td>\n",
       "      <td>student</td>\n",
       "    </tr>\n",
       "    <tr>\n",
       "      <th>3</th>\n",
       "      <td>paul</td>\n",
       "      <td>158</td>\n",
       "      <td>F</td>\n",
       "      <td>manager</td>\n",
       "    </tr>\n",
       "    <tr>\n",
       "      <th>4</th>\n",
       "      <td>peter</td>\n",
       "      <td>133</td>\n",
       "      <td>M</td>\n",
       "      <td>engineer</td>\n",
       "    </tr>\n",
       "    <tr>\n",
       "      <th>5</th>\n",
       "      <td>julie</td>\n",
       "      <td>144</td>\n",
       "      <td>F</td>\n",
       "      <td>scientist</td>\n",
       "    </tr>\n",
       "  </tbody>\n",
       "</table>\n",
       "</div>"
      ],
      "text/plain": [
       "    name  age gender        job\n",
       "0  alice  119      F    student\n",
       "1   john  126      M    student\n",
       "2   eric  122      M    student\n",
       "3   paul  158      F    manager\n",
       "4  peter  133      M   engineer\n",
       "5  julie  144      F  scientist"
      ]
     },
     "execution_count": 91,
     "metadata": {},
     "output_type": "execute_result"
    }
   ],
   "source": [
    "df = users.copy()\n",
    "for i in range(df.shape[0]):\n",
    "    row = df.iloc[i]\n",
    "    # print (row)\n",
    "    # print (row.age)\n",
    "    row.age += 100\n",
    "    # print (row.age)\n",
    "    df.iloc[i] = row\n",
    "df"
   ]
  },
  {
   "cell_type": "markdown",
   "id": "92a2adbc-3dd9-4843-af77-9d85c4a935ce",
   "metadata": {},
   "source": [
    "### Rows Selection and Filtering"
   ]
  },
  {
   "cell_type": "code",
   "execution_count": 94,
   "id": "3f6a5e69-7c46-4df1-ad0c-5d379a05220e",
   "metadata": {},
   "outputs": [
    {
     "name": "stdout",
     "output_type": "stream",
     "text": [
      "0     True\n",
      "1     True\n",
      "2     True\n",
      "3    False\n",
      "4    False\n",
      "5    False\n",
      "Name: age, dtype: bool\n"
     ]
    },
    {
     "data": {
      "text/html": [
       "<div>\n",
       "<style scoped>\n",
       "    .dataframe tbody tr th:only-of-type {\n",
       "        vertical-align: middle;\n",
       "    }\n",
       "\n",
       "    .dataframe tbody tr th {\n",
       "        vertical-align: top;\n",
       "    }\n",
       "\n",
       "    .dataframe thead th {\n",
       "        text-align: right;\n",
       "    }\n",
       "</style>\n",
       "<table border=\"1\" class=\"dataframe\">\n",
       "  <thead>\n",
       "    <tr style=\"text-align: right;\">\n",
       "      <th></th>\n",
       "      <th>name</th>\n",
       "      <th>age</th>\n",
       "      <th>gender</th>\n",
       "      <th>job</th>\n",
       "    </tr>\n",
       "  </thead>\n",
       "  <tbody>\n",
       "    <tr>\n",
       "      <th>0</th>\n",
       "      <td>alice</td>\n",
       "      <td>19</td>\n",
       "      <td>F</td>\n",
       "      <td>student</td>\n",
       "    </tr>\n",
       "    <tr>\n",
       "      <th>1</th>\n",
       "      <td>john</td>\n",
       "      <td>26</td>\n",
       "      <td>M</td>\n",
       "      <td>student</td>\n",
       "    </tr>\n",
       "    <tr>\n",
       "      <th>2</th>\n",
       "      <td>eric</td>\n",
       "      <td>22</td>\n",
       "      <td>M</td>\n",
       "      <td>student</td>\n",
       "    </tr>\n",
       "  </tbody>\n",
       "</table>\n",
       "</div>"
      ],
      "text/plain": [
       "    name  age gender      job\n",
       "0  alice   19      F  student\n",
       "1   john   26      M  student\n",
       "2   eric   22      M  student"
      ]
     },
     "execution_count": 94,
     "metadata": {},
     "output_type": "execute_result"
    }
   ],
   "source": [
    "# simple logical filtering\n",
    "print (users.age < 30)\n",
    "users[users.age < 30]"
   ]
  },
  {
   "cell_type": "code",
   "execution_count": 96,
   "id": "903bdfdc-de86-4b79-aba9-fa8e6f397504",
   "metadata": {},
   "outputs": [
    {
     "name": "stdout",
     "output_type": "stream",
     "text": [
      "0     True\n",
      "1     True\n",
      "2     True\n",
      "3    False\n",
      "4    False\n",
      "5    False\n",
      "Name: age, dtype: bool\n"
     ]
    },
    {
     "data": {
      "text/html": [
       "<div>\n",
       "<style scoped>\n",
       "    .dataframe tbody tr th:only-of-type {\n",
       "        vertical-align: middle;\n",
       "    }\n",
       "\n",
       "    .dataframe tbody tr th {\n",
       "        vertical-align: top;\n",
       "    }\n",
       "\n",
       "    .dataframe thead th {\n",
       "        text-align: right;\n",
       "    }\n",
       "</style>\n",
       "<table border=\"1\" class=\"dataframe\">\n",
       "  <thead>\n",
       "    <tr style=\"text-align: right;\">\n",
       "      <th></th>\n",
       "      <th>name</th>\n",
       "      <th>age</th>\n",
       "      <th>gender</th>\n",
       "      <th>job</th>\n",
       "    </tr>\n",
       "  </thead>\n",
       "  <tbody>\n",
       "    <tr>\n",
       "      <th>0</th>\n",
       "      <td>alice</td>\n",
       "      <td>19</td>\n",
       "      <td>F</td>\n",
       "      <td>student</td>\n",
       "    </tr>\n",
       "    <tr>\n",
       "      <th>1</th>\n",
       "      <td>john</td>\n",
       "      <td>26</td>\n",
       "      <td>M</td>\n",
       "      <td>student</td>\n",
       "    </tr>\n",
       "    <tr>\n",
       "      <th>2</th>\n",
       "      <td>eric</td>\n",
       "      <td>22</td>\n",
       "      <td>M</td>\n",
       "      <td>student</td>\n",
       "    </tr>\n",
       "  </tbody>\n",
       "</table>\n",
       "</div>"
      ],
      "text/plain": [
       "    name  age gender      job\n",
       "0  alice   19      F  student\n",
       "1   john   26      M  student\n",
       "2   eric   22      M  student"
      ]
     },
     "execution_count": 96,
     "metadata": {},
     "output_type": "execute_result"
    }
   ],
   "source": [
    "bool_age = users.age < 30\n",
    "print (bool_age)\n",
    "users[bool_age]"
   ]
  },
  {
   "cell_type": "code",
   "execution_count": 98,
   "id": "57ac3a79-f1ff-4f89-aaec-b529a3cde868",
   "metadata": {},
   "outputs": [
    {
     "data": {
      "text/plain": [
       "0    19\n",
       "1    26\n",
       "2    22\n",
       "Name: age, dtype: int64"
      ]
     },
     "execution_count": 98,
     "metadata": {},
     "output_type": "execute_result"
    }
   ],
   "source": [
    "users[bool_age].age"
   ]
  },
  {
   "cell_type": "code",
   "execution_count": 99,
   "id": "0f1c8a38-02fe-473d-99fb-09d7e83f1119",
   "metadata": {},
   "outputs": [
    {
     "data": {
      "text/plain": [
       "0    19\n",
       "1    26\n",
       "2    22\n",
       "Name: age, dtype: int64"
      ]
     },
     "execution_count": 99,
     "metadata": {},
     "output_type": "execute_result"
    }
   ],
   "source": [
    "users[bool_age]['age']"
   ]
  },
  {
   "cell_type": "code",
   "execution_count": 103,
   "id": "a9705379-b10b-4416-a2e1-8c81967b5652",
   "metadata": {},
   "outputs": [
    {
     "data": {
      "text/html": [
       "<div>\n",
       "<style scoped>\n",
       "    .dataframe tbody tr th:only-of-type {\n",
       "        vertical-align: middle;\n",
       "    }\n",
       "\n",
       "    .dataframe tbody tr th {\n",
       "        vertical-align: top;\n",
       "    }\n",
       "\n",
       "    .dataframe thead th {\n",
       "        text-align: right;\n",
       "    }\n",
       "</style>\n",
       "<table border=\"1\" class=\"dataframe\">\n",
       "  <thead>\n",
       "    <tr style=\"text-align: right;\">\n",
       "      <th></th>\n",
       "      <th>age</th>\n",
       "      <th>name</th>\n",
       "    </tr>\n",
       "  </thead>\n",
       "  <tbody>\n",
       "    <tr>\n",
       "      <th>0</th>\n",
       "      <td>19</td>\n",
       "      <td>alice</td>\n",
       "    </tr>\n",
       "    <tr>\n",
       "      <th>1</th>\n",
       "      <td>26</td>\n",
       "      <td>john</td>\n",
       "    </tr>\n",
       "    <tr>\n",
       "      <th>2</th>\n",
       "      <td>22</td>\n",
       "      <td>eric</td>\n",
       "    </tr>\n",
       "  </tbody>\n",
       "</table>\n",
       "</div>"
      ],
      "text/plain": [
       "   age   name\n",
       "0   19  alice\n",
       "1   26   john\n",
       "2   22   eric"
      ]
     },
     "execution_count": 103,
     "metadata": {},
     "output_type": "execute_result"
    }
   ],
   "source": [
    "users[bool_age][['age', 'name']]"
   ]
  },
  {
   "cell_type": "code",
   "execution_count": 104,
   "id": "5ef620ca-c9ec-4cab-ac5e-469a944e6aab",
   "metadata": {},
   "outputs": [
    {
     "name": "stdout",
     "output_type": "stream",
     "text": [
      "0    False\n",
      "1    False\n",
      "2    False\n",
      "3    False\n",
      "4     True\n",
      "5     True\n",
      "Name: age, dtype: bool\n"
     ]
    },
    {
     "data": {
      "text/html": [
       "<div>\n",
       "<style scoped>\n",
       "    .dataframe tbody tr th:only-of-type {\n",
       "        vertical-align: middle;\n",
       "    }\n",
       "\n",
       "    .dataframe tbody tr th {\n",
       "        vertical-align: top;\n",
       "    }\n",
       "\n",
       "    .dataframe thead th {\n",
       "        text-align: right;\n",
       "    }\n",
       "</style>\n",
       "<table border=\"1\" class=\"dataframe\">\n",
       "  <thead>\n",
       "    <tr style=\"text-align: right;\">\n",
       "      <th></th>\n",
       "      <th>age</th>\n",
       "      <th>name</th>\n",
       "    </tr>\n",
       "  </thead>\n",
       "  <tbody>\n",
       "    <tr>\n",
       "      <th>4</th>\n",
       "      <td>33</td>\n",
       "      <td>peter</td>\n",
       "    </tr>\n",
       "    <tr>\n",
       "      <th>5</th>\n",
       "      <td>44</td>\n",
       "      <td>julie</td>\n",
       "    </tr>\n",
       "  </tbody>\n",
       "</table>\n",
       "</div>"
      ],
      "text/plain": [
       "   age   name\n",
       "4   33  peter\n",
       "5   44  julie"
      ]
     },
     "execution_count": 104,
     "metadata": {},
     "output_type": "execute_result"
    }
   ],
   "source": [
    "bool_age = (users.age >= 30) & (users.age <= 50)\n",
    "print (bool_age)\n",
    "users[bool_age][['age', 'name']]"
   ]
  },
  {
   "cell_type": "code",
   "execution_count": 105,
   "id": "282bf539-14c6-40da-bd33-bdc99a2dc8cc",
   "metadata": {},
   "outputs": [
    {
     "name": "stdout",
     "output_type": "stream",
     "text": [
      "0    False\n",
      "1    False\n",
      "2    False\n",
      "3    False\n",
      "4     True\n",
      "5    False\n",
      "dtype: bool\n"
     ]
    },
    {
     "data": {
      "text/html": [
       "<div>\n",
       "<style scoped>\n",
       "    .dataframe tbody tr th:only-of-type {\n",
       "        vertical-align: middle;\n",
       "    }\n",
       "\n",
       "    .dataframe tbody tr th {\n",
       "        vertical-align: top;\n",
       "    }\n",
       "\n",
       "    .dataframe thead th {\n",
       "        text-align: right;\n",
       "    }\n",
       "</style>\n",
       "<table border=\"1\" class=\"dataframe\">\n",
       "  <thead>\n",
       "    <tr style=\"text-align: right;\">\n",
       "      <th></th>\n",
       "      <th>age</th>\n",
       "      <th>name</th>\n",
       "      <th>gender</th>\n",
       "    </tr>\n",
       "  </thead>\n",
       "  <tbody>\n",
       "    <tr>\n",
       "      <th>4</th>\n",
       "      <td>33</td>\n",
       "      <td>peter</td>\n",
       "      <td>M</td>\n",
       "    </tr>\n",
       "  </tbody>\n",
       "</table>\n",
       "</div>"
      ],
      "text/plain": [
       "   age   name gender\n",
       "4   33  peter      M"
      ]
     },
     "execution_count": 105,
     "metadata": {},
     "output_type": "execute_result"
    }
   ],
   "source": [
    "bool_age = (users.age > 30) & (users.gender == \"M\")\n",
    "print (bool_age)\n",
    "users[bool_age][['age', 'name','gender']]"
   ]
  },
  {
   "cell_type": "code",
   "execution_count": 106,
   "id": "42c29dcc-8c3c-4100-89f7-117de9279d4a",
   "metadata": {},
   "outputs": [
    {
     "data": {
      "text/html": [
       "<div>\n",
       "<style scoped>\n",
       "    .dataframe tbody tr th:only-of-type {\n",
       "        vertical-align: middle;\n",
       "    }\n",
       "\n",
       "    .dataframe tbody tr th {\n",
       "        vertical-align: top;\n",
       "    }\n",
       "\n",
       "    .dataframe thead th {\n",
       "        text-align: right;\n",
       "    }\n",
       "</style>\n",
       "<table border=\"1\" class=\"dataframe\">\n",
       "  <thead>\n",
       "    <tr style=\"text-align: right;\">\n",
       "      <th></th>\n",
       "      <th>name</th>\n",
       "      <th>age</th>\n",
       "      <th>gender</th>\n",
       "      <th>job</th>\n",
       "    </tr>\n",
       "  </thead>\n",
       "  <tbody>\n",
       "    <tr>\n",
       "      <th>0</th>\n",
       "      <td>alice</td>\n",
       "      <td>19</td>\n",
       "      <td>F</td>\n",
       "      <td>student</td>\n",
       "    </tr>\n",
       "    <tr>\n",
       "      <th>1</th>\n",
       "      <td>john</td>\n",
       "      <td>26</td>\n",
       "      <td>M</td>\n",
       "      <td>student</td>\n",
       "    </tr>\n",
       "    <tr>\n",
       "      <th>2</th>\n",
       "      <td>eric</td>\n",
       "      <td>22</td>\n",
       "      <td>M</td>\n",
       "      <td>student</td>\n",
       "    </tr>\n",
       "    <tr>\n",
       "      <th>4</th>\n",
       "      <td>peter</td>\n",
       "      <td>33</td>\n",
       "      <td>M</td>\n",
       "      <td>engineer</td>\n",
       "    </tr>\n",
       "  </tbody>\n",
       "</table>\n",
       "</div>"
      ],
      "text/plain": [
       "    name  age gender       job\n",
       "0  alice   19      F   student\n",
       "1   john   26      M   student\n",
       "2   eric   22      M   student\n",
       "4  peter   33      M  engineer"
      ]
     },
     "execution_count": 106,
     "metadata": {},
     "output_type": "execute_result"
    }
   ],
   "source": [
    "users[users.job.isin(['student', 'engineer'])]"
   ]
  },
  {
   "cell_type": "markdown",
   "id": "5ba51210-b320-446c-a6aa-7723bd9b6bb7",
   "metadata": {},
   "source": [
    "### Sorting"
   ]
  },
  {
   "cell_type": "code",
   "execution_count": 107,
   "id": "7c1d77e4-37d6-4795-bb6e-d252bb5e65fc",
   "metadata": {},
   "outputs": [
    {
     "data": {
      "text/html": [
       "<div>\n",
       "<style scoped>\n",
       "    .dataframe tbody tr th:only-of-type {\n",
       "        vertical-align: middle;\n",
       "    }\n",
       "\n",
       "    .dataframe tbody tr th {\n",
       "        vertical-align: top;\n",
       "    }\n",
       "\n",
       "    .dataframe thead th {\n",
       "        text-align: right;\n",
       "    }\n",
       "</style>\n",
       "<table border=\"1\" class=\"dataframe\">\n",
       "  <thead>\n",
       "    <tr style=\"text-align: right;\">\n",
       "      <th></th>\n",
       "      <th>name</th>\n",
       "      <th>age</th>\n",
       "      <th>gender</th>\n",
       "      <th>job</th>\n",
       "    </tr>\n",
       "  </thead>\n",
       "  <tbody>\n",
       "    <tr>\n",
       "      <th>0</th>\n",
       "      <td>alice</td>\n",
       "      <td>19</td>\n",
       "      <td>F</td>\n",
       "      <td>student</td>\n",
       "    </tr>\n",
       "    <tr>\n",
       "      <th>1</th>\n",
       "      <td>john</td>\n",
       "      <td>26</td>\n",
       "      <td>M</td>\n",
       "      <td>student</td>\n",
       "    </tr>\n",
       "    <tr>\n",
       "      <th>2</th>\n",
       "      <td>eric</td>\n",
       "      <td>22</td>\n",
       "      <td>M</td>\n",
       "      <td>student</td>\n",
       "    </tr>\n",
       "    <tr>\n",
       "      <th>3</th>\n",
       "      <td>paul</td>\n",
       "      <td>58</td>\n",
       "      <td>F</td>\n",
       "      <td>manager</td>\n",
       "    </tr>\n",
       "    <tr>\n",
       "      <th>4</th>\n",
       "      <td>peter</td>\n",
       "      <td>33</td>\n",
       "      <td>M</td>\n",
       "      <td>engineer</td>\n",
       "    </tr>\n",
       "    <tr>\n",
       "      <th>5</th>\n",
       "      <td>julie</td>\n",
       "      <td>44</td>\n",
       "      <td>F</td>\n",
       "      <td>scientist</td>\n",
       "    </tr>\n",
       "  </tbody>\n",
       "</table>\n",
       "</div>"
      ],
      "text/plain": [
       "    name  age gender        job\n",
       "0  alice   19      F    student\n",
       "1   john   26      M    student\n",
       "2   eric   22      M    student\n",
       "3   paul   58      F    manager\n",
       "4  peter   33      M   engineer\n",
       "5  julie   44      F  scientist"
      ]
     },
     "execution_count": 107,
     "metadata": {},
     "output_type": "execute_result"
    }
   ],
   "source": [
    "df = users.copy()\n",
    "df"
   ]
  },
  {
   "cell_type": "code",
   "execution_count": 109,
   "id": "49989559-c1a2-4d6f-8c49-a397ad12d99a",
   "metadata": {},
   "outputs": [
    {
     "data": {
      "text/plain": [
       "0    19\n",
       "2    22\n",
       "1    26\n",
       "4    33\n",
       "5    44\n",
       "3    58\n",
       "Name: age, dtype: int64"
      ]
     },
     "execution_count": 109,
     "metadata": {},
     "output_type": "execute_result"
    }
   ],
   "source": [
    "df.age.sort_values()"
   ]
  },
  {
   "cell_type": "code",
   "execution_count": 111,
   "id": "81d65510-af0f-41c1-be6a-2ae1a1927793",
   "metadata": {},
   "outputs": [
    {
     "data": {
      "text/plain": [
       "0    19\n",
       "2    22\n",
       "1    26\n",
       "4    33\n",
       "5    44\n",
       "3    58\n",
       "Name: age, dtype: int64"
      ]
     },
     "execution_count": 111,
     "metadata": {},
     "output_type": "execute_result"
    }
   ],
   "source": [
    "df.age.sort_values(ascending = True)"
   ]
  },
  {
   "cell_type": "code",
   "execution_count": 112,
   "id": "c9e8cf89-8399-4bf4-9f3f-9f417f5d3c35",
   "metadata": {},
   "outputs": [
    {
     "data": {
      "text/plain": [
       "3    58\n",
       "5    44\n",
       "4    33\n",
       "1    26\n",
       "2    22\n",
       "0    19\n",
       "Name: age, dtype: int64"
      ]
     },
     "execution_count": 112,
     "metadata": {},
     "output_type": "execute_result"
    }
   ],
   "source": [
    "df.age.sort_values(ascending = False)"
   ]
  },
  {
   "cell_type": "code",
   "execution_count": 118,
   "id": "1963fd31-1cc6-4c08-b8f9-3335c117413b",
   "metadata": {},
   "outputs": [],
   "source": [
    "df.sort_values(by = 'age', ascending = False, inplace = True, ignore_index = True)"
   ]
  },
  {
   "cell_type": "code",
   "execution_count": 119,
   "id": "687d9ac9-0d13-4a1f-a09a-323433970895",
   "metadata": {},
   "outputs": [
    {
     "data": {
      "text/html": [
       "<div>\n",
       "<style scoped>\n",
       "    .dataframe tbody tr th:only-of-type {\n",
       "        vertical-align: middle;\n",
       "    }\n",
       "\n",
       "    .dataframe tbody tr th {\n",
       "        vertical-align: top;\n",
       "    }\n",
       "\n",
       "    .dataframe thead th {\n",
       "        text-align: right;\n",
       "    }\n",
       "</style>\n",
       "<table border=\"1\" class=\"dataframe\">\n",
       "  <thead>\n",
       "    <tr style=\"text-align: right;\">\n",
       "      <th></th>\n",
       "      <th>name</th>\n",
       "      <th>age</th>\n",
       "      <th>gender</th>\n",
       "      <th>job</th>\n",
       "    </tr>\n",
       "  </thead>\n",
       "  <tbody>\n",
       "    <tr>\n",
       "      <th>0</th>\n",
       "      <td>paul</td>\n",
       "      <td>58</td>\n",
       "      <td>F</td>\n",
       "      <td>manager</td>\n",
       "    </tr>\n",
       "    <tr>\n",
       "      <th>1</th>\n",
       "      <td>julie</td>\n",
       "      <td>44</td>\n",
       "      <td>F</td>\n",
       "      <td>scientist</td>\n",
       "    </tr>\n",
       "    <tr>\n",
       "      <th>2</th>\n",
       "      <td>peter</td>\n",
       "      <td>33</td>\n",
       "      <td>M</td>\n",
       "      <td>engineer</td>\n",
       "    </tr>\n",
       "    <tr>\n",
       "      <th>3</th>\n",
       "      <td>john</td>\n",
       "      <td>26</td>\n",
       "      <td>M</td>\n",
       "      <td>student</td>\n",
       "    </tr>\n",
       "    <tr>\n",
       "      <th>4</th>\n",
       "      <td>eric</td>\n",
       "      <td>22</td>\n",
       "      <td>M</td>\n",
       "      <td>student</td>\n",
       "    </tr>\n",
       "    <tr>\n",
       "      <th>5</th>\n",
       "      <td>alice</td>\n",
       "      <td>19</td>\n",
       "      <td>F</td>\n",
       "      <td>student</td>\n",
       "    </tr>\n",
       "  </tbody>\n",
       "</table>\n",
       "</div>"
      ],
      "text/plain": [
       "    name  age gender        job\n",
       "0   paul   58      F    manager\n",
       "1  julie   44      F  scientist\n",
       "2  peter   33      M   engineer\n",
       "3   john   26      M    student\n",
       "4   eric   22      M    student\n",
       "5  alice   19      F    student"
      ]
     },
     "execution_count": 119,
     "metadata": {},
     "output_type": "execute_result"
    }
   ],
   "source": [
    "df"
   ]
  },
  {
   "cell_type": "code",
   "execution_count": null,
   "id": "0792e040-c792-498a-a42a-715779b03964",
   "metadata": {},
   "outputs": [],
   "source": []
  },
  {
   "cell_type": "code",
   "execution_count": null,
   "id": "3d75a547-40a4-4b9f-885b-c684efa1d0b6",
   "metadata": {},
   "outputs": [],
   "source": []
  },
  {
   "cell_type": "code",
   "execution_count": null,
   "id": "b5decf1b-7edd-4be8-84cd-ef714b85c7c0",
   "metadata": {},
   "outputs": [],
   "source": []
  },
  {
   "cell_type": "code",
   "execution_count": null,
   "id": "3b873459-3443-4d34-bb5f-0f0553a0ceb8",
   "metadata": {},
   "outputs": [],
   "source": []
  },
  {
   "cell_type": "code",
   "execution_count": null,
   "id": "b641ad6b-1b08-4b26-a3f8-c3275548d2d5",
   "metadata": {},
   "outputs": [],
   "source": []
  },
  {
   "cell_type": "code",
   "execution_count": null,
   "id": "b1194b2f-33d2-41d9-8c26-389322b16eae",
   "metadata": {},
   "outputs": [],
   "source": []
  },
  {
   "cell_type": "code",
   "execution_count": null,
   "id": "d82570f3-6abf-40f8-8dbc-4bf66e4d5492",
   "metadata": {},
   "outputs": [],
   "source": []
  },
  {
   "cell_type": "code",
   "execution_count": null,
   "id": "b5aba250-db99-4dad-8db2-05c26f4fe119",
   "metadata": {},
   "outputs": [],
   "source": []
  },
  {
   "cell_type": "code",
   "execution_count": null,
   "id": "cce1e057-44fb-4a72-923e-99f6d6dd7669",
   "metadata": {},
   "outputs": [],
   "source": []
  },
  {
   "cell_type": "code",
   "execution_count": null,
   "id": "8775b0a0-35f1-4785-bb94-ff24baacd288",
   "metadata": {},
   "outputs": [],
   "source": []
  },
  {
   "cell_type": "code",
   "execution_count": null,
   "id": "47fc48cf-4ec6-4866-93e0-51a2ff54dd9d",
   "metadata": {},
   "outputs": [],
   "source": []
  },
  {
   "cell_type": "code",
   "execution_count": null,
   "id": "ff15cc05-90fd-4817-8053-69f676e7a534",
   "metadata": {},
   "outputs": [],
   "source": []
  }
 ],
 "metadata": {
  "kernelspec": {
   "display_name": "Python 3",
   "language": "python",
   "name": "python3"
  },
  "language_info": {
   "codemirror_mode": {
    "name": "ipython",
    "version": 3
   },
   "file_extension": ".py",
   "mimetype": "text/x-python",
   "name": "python",
   "nbconvert_exporter": "python",
   "pygments_lexer": "ipython3",
   "version": "3.8.8"
  }
 },
 "nbformat": 4,
 "nbformat_minor": 5
}
